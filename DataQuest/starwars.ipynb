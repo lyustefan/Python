{
 "cells": [
  {
   "cell_type": "markdown",
   "metadata": {
    "collapsed": true
   },
   "source": [
    "# Guided Project: Star Wars Survey"
   ]
  },
  {
   "cell_type": "markdown",
   "metadata": {},
   "source": [
    "### 1.Load the dataset"
   ]
  },
  {
   "cell_type": "code",
   "execution_count": 1,
   "metadata": {
    "collapsed": true
   },
   "outputs": [],
   "source": [
    "import pandas as pd\n",
    "star_wars = pd.read_csv(\"star_wars.csv\",encoding='ISO-8859-1')"
   ]
  },
  {
   "cell_type": "code",
   "execution_count": 2,
   "metadata": {
    "collapsed": false
   },
   "outputs": [
    {
     "data": {
      "text/plain": [
       "Index(['RespondentID',\n",
       "       'Have you seen any of the 6 films in the Star Wars franchise?',\n",
       "       'Do you consider yourself to be a fan of the Star Wars film franchise?',\n",
       "       'Which of the following Star Wars films have you seen? Please select all that apply.',\n",
       "       'Unnamed: 4', 'Unnamed: 5', 'Unnamed: 6', 'Unnamed: 7', 'Unnamed: 8',\n",
       "       'Please rank the Star Wars films in order of preference with 1 being your favorite film in the franchise and 6 being your least favorite film.',\n",
       "       'Unnamed: 10', 'Unnamed: 11', 'Unnamed: 12', 'Unnamed: 13',\n",
       "       'Unnamed: 14',\n",
       "       'Please state whether you view the following characters favorably, unfavorably, or are unfamiliar with him/her.',\n",
       "       'Unnamed: 16', 'Unnamed: 17', 'Unnamed: 18', 'Unnamed: 19',\n",
       "       'Unnamed: 20', 'Unnamed: 21', 'Unnamed: 22', 'Unnamed: 23',\n",
       "       'Unnamed: 24', 'Unnamed: 25', 'Unnamed: 26', 'Unnamed: 27',\n",
       "       'Unnamed: 28', 'Which character shot first?',\n",
       "       'Are you familiar with the Expanded Universe?',\n",
       "       'Do you consider yourself to be a fan of the Expanded Universe?ÂÃ¦',\n",
       "       'Do you consider yourself to be a fan of the Star Trek franchise?',\n",
       "       'Gender', 'Age', 'Household Income', 'Education',\n",
       "       'Location (Census Region)'],\n",
       "      dtype='object')"
      ]
     },
     "execution_count": 2,
     "metadata": {},
     "output_type": "execute_result"
    }
   ],
   "source": [
    "# Initial exploration of dataset\n",
    "star_wars.head(10)\n",
    "star_wars.columns"
   ]
  },
  {
   "cell_type": "code",
   "execution_count": 3,
   "metadata": {
    "collapsed": false
   },
   "outputs": [
    {
     "name": "stdout",
     "output_type": "stream",
     "text": [
      "0\n"
     ]
    }
   ],
   "source": [
    "star_wars = star_wars[pd.notnull(star_wars['RespondentID'])]\n",
    "# Check if there is any null value in column RespondentID\n",
    "count = 0\n",
    "for each in star_wars['RespondentID']:\n",
    "    if pd.isnull(each):\n",
    "        count += 1\n",
    "print(count)"
   ]
  },
  {
   "cell_type": "markdown",
   "metadata": {},
   "source": [
    "### 2.Data cleaning"
   ]
  },
  {
   "cell_type": "code",
   "execution_count": 4,
   "metadata": {
    "collapsed": false
   },
   "outputs": [
    {
     "name": "stdout",
     "output_type": "stream",
     "text": [
      "Yes    936\n",
      "No     250\n",
      "Name: Have you seen any of the 6 films in the Star Wars franchise?, dtype: int64\n",
      "Yes    552\n",
      "No     284\n",
      "Name: Do you consider yourself to be a fan of the Star Wars film franchise?, dtype: int64\n"
     ]
    }
   ],
   "source": [
    "# Count the number of unique items in a series\n",
    "cols = ['Have you seen any of the 6 films in the Star Wars franchise?','Do you consider yourself to be a fan of the Star Wars film franchise?']\n",
    "for each in cols:\n",
    "    print(star_wars[each].value_counts())"
   ]
  },
  {
   "cell_type": "code",
   "execution_count": 5,
   "metadata": {
    "collapsed": false,
    "scrolled": false
   },
   "outputs": [
    {
     "name": "stdout",
     "output_type": "stream",
     "text": [
      "<bound method Series.head of 1        True\n",
      "2       False\n",
      "3        True\n",
      "4        True\n",
      "5        True\n",
      "6        True\n",
      "7        True\n",
      "8        True\n",
      "9        True\n",
      "10       True\n",
      "11       True\n",
      "12      False\n",
      "13       True\n",
      "14       True\n",
      "15       True\n",
      "16       True\n",
      "17       True\n",
      "18       True\n",
      "19       True\n",
      "20       True\n",
      "21       True\n",
      "22       True\n",
      "23       True\n",
      "24       True\n",
      "25       True\n",
      "26      False\n",
      "27       True\n",
      "28       True\n",
      "29       True\n",
      "30       True\n",
      "        ...  \n",
      "1157     True\n",
      "1158    False\n",
      "1159     True\n",
      "1160    False\n",
      "1161     True\n",
      "1162     True\n",
      "1163     True\n",
      "1164     True\n",
      "1165     True\n",
      "1166     True\n",
      "1167     True\n",
      "1168     True\n",
      "1169    False\n",
      "1170     True\n",
      "1171    False\n",
      "1172     True\n",
      "1173     True\n",
      "1174     True\n",
      "1175     True\n",
      "1176     True\n",
      "1177     True\n",
      "1178     True\n",
      "1179    False\n",
      "1180     True\n",
      "1181     True\n",
      "1182     True\n",
      "1183     True\n",
      "1184    False\n",
      "1185     True\n",
      "1186     True\n",
      "Name: Have you seen any of the 6 films in the Star Wars franchise?, dtype: bool>\n",
      "<bound method Series.head of 1        True\n",
      "2         NaN\n",
      "3       False\n",
      "4        True\n",
      "5        True\n",
      "6        True\n",
      "7        True\n",
      "8        True\n",
      "9        True\n",
      "10      False\n",
      "11        NaN\n",
      "12        NaN\n",
      "13      False\n",
      "14       True\n",
      "15       True\n",
      "16       True\n",
      "17       True\n",
      "18       True\n",
      "19       True\n",
      "20       True\n",
      "21       True\n",
      "22      False\n",
      "23       True\n",
      "24       True\n",
      "25       True\n",
      "26        NaN\n",
      "27       True\n",
      "28       True\n",
      "29       True\n",
      "30       True\n",
      "        ...  \n",
      "1157    False\n",
      "1158      NaN\n",
      "1159    False\n",
      "1160      NaN\n",
      "1161    False\n",
      "1162    False\n",
      "1163     True\n",
      "1164    False\n",
      "1165    False\n",
      "1166     True\n",
      "1167     True\n",
      "1168    False\n",
      "1169      NaN\n",
      "1170     True\n",
      "1171      NaN\n",
      "1172     True\n",
      "1173     True\n",
      "1174     True\n",
      "1175    False\n",
      "1176     True\n",
      "1177    False\n",
      "1178    False\n",
      "1179      NaN\n",
      "1180     True\n",
      "1181     True\n",
      "1182     True\n",
      "1183     True\n",
      "1184      NaN\n",
      "1185     True\n",
      "1186    False\n",
      "Name: Do you consider yourself to be a fan of the Star Wars film franchise?, dtype: object>\n"
     ]
    }
   ],
   "source": [
    "# convert yes/no to booleans\n",
    "yes_no = {\"Yes\":True,\n",
    "          \"No\":False}\n",
    "for each in cols:\n",
    "    star_wars[each] = star_wars[each].map(yes_no)\n",
    "    print(star_wars[each].head)"
   ]
  },
  {
   "cell_type": "code",
   "execution_count": 6,
   "metadata": {
    "collapsed": false
   },
   "outputs": [
    {
     "name": "stdout",
     "output_type": "stream",
     "text": [
      "Star Wars: Episode I  The Phantom Menace    673\n",
      "Name: Which of the following Star Wars films have you seen? Please select all that apply., dtype: int64\n",
      "Star Wars: Episode II  Attack of the Clones    571\n",
      "Name: Unnamed: 4, dtype: int64\n",
      "Star Wars: Episode III  Revenge of the Sith    550\n",
      "Name: Unnamed: 5, dtype: int64\n",
      "Star Wars: Episode IV  A New Hope    607\n",
      "Name: Unnamed: 6, dtype: int64\n",
      "Star Wars: Episode V The Empire Strikes Back    758\n",
      "Name: Unnamed: 7, dtype: int64\n",
      "Star Wars: Episode VI Return of the Jedi    738\n",
      "Name: Unnamed: 8, dtype: int64\n"
     ]
    }
   ],
   "source": [
    "for each in star_wars.columns[3:9]:\n",
    "    print(star_wars[each].value_counts())"
   ]
  },
  {
   "cell_type": "code",
   "execution_count": 7,
   "metadata": {
    "collapsed": false
   },
   "outputs": [
    {
     "name": "stdout",
     "output_type": "stream",
     "text": [
      "True     673\n",
      "False    513\n",
      "Name: Which of the following Star Wars films have you seen? Please select all that apply., dtype: int64\n",
      "False    615\n",
      "True     571\n",
      "Name: Unnamed: 4, dtype: int64\n",
      "False    636\n",
      "True     550\n",
      "Name: Unnamed: 5, dtype: int64\n",
      "True     607\n",
      "False    579\n",
      "Name: Unnamed: 6, dtype: int64\n",
      "True     758\n",
      "False    428\n",
      "Name: Unnamed: 7, dtype: int64\n",
      "True     738\n",
      "False    448\n",
      "Name: Unnamed: 8, dtype: int64\n"
     ]
    },
    {
     "data": {
      "text/plain": [
       "Index(['seen_1', 'seen_2', 'seen_3', 'seen_4', 'seen_5', 'seen_6'], dtype='object')"
      ]
     },
     "execution_count": 7,
     "metadata": {},
     "output_type": "execute_result"
    }
   ],
   "source": [
    "import numpy\n",
    "from numpy import nan\n",
    "map_dict = {'Star Wars: Episode I  The Phantom Menace':True,\n",
    "            'Star Wars: Episode II  Attack of the Clones':True,\n",
    "            'Star Wars: Episode III  Revenge of the Sith':True,\n",
    "            'Star Wars: Episode IV  A New Hope':True,\n",
    "            'Star Wars: Episode V The Empire Strikes Back':True,\n",
    "            'Star Wars: Episode VI Return of the Jedi':True,\n",
    "            numpy.nan:False}\n",
    "# Mapping\n",
    "for col in star_wars.columns[3:9]: \n",
    "    star_wars[col] = star_wars[col].map(map_dict)\n",
    "    print(star_wars[col].value_counts())\n",
    "\n",
    "# Remane\n",
    "star_wars = star_wars.rename(columns={'Which of the following Star Wars films have you seen? Please select all that apply.':'seen_1',\n",
    "                                     'Unnamed: 4':'seen_2','Unnamed: 5':'seen_3','Unnamed: 6':'seen_4','Unnamed: 7':'seen_5',\n",
    "                                     'Unnamed: 8':'seen_6'})\n",
    "\n",
    "star_wars.columns[3:9]"
   ]
  },
  {
   "cell_type": "code",
   "execution_count": 8,
   "metadata": {
    "collapsed": false
   },
   "outputs": [],
   "source": [
    "# Convert each of the columns to float\n",
    "star_wars[star_wars.columns[9:15]] = star_wars[star_wars.columns[9:15]].astype(float)"
   ]
  },
  {
   "cell_type": "code",
   "execution_count": 9,
   "metadata": {
    "collapsed": false
   },
   "outputs": [
    {
     "data": {
      "text/plain": [
       "Index(['ranking_1', 'ranking_2', 'ranking_3', 'ranking_4', 'ranking_5',\n",
       "       'ranking_6'],\n",
       "      dtype='object')"
      ]
     },
     "execution_count": 9,
     "metadata": {},
     "output_type": "execute_result"
    }
   ],
   "source": [
    "star_wars = star_wars.rename(columns = {'Please rank the Star Wars films in order of preference with 1 being your favorite film in the franchise and 6 being your least favorite film.':'ranking_1',\n",
    "                                       'Unnamed: 10':'ranking_2','Unnamed: 11':'ranking_3','Unnamed: 12':'ranking_4',\n",
    "                                       'Unnamed: 13':'ranking_5','Unnamed: 14':'ranking_6'})\n",
    "star_wars.columns[9:15]"
   ]
  },
  {
   "cell_type": "markdown",
   "metadata": {},
   "source": [
    "### 3. Exploration"
   ]
  },
  {
   "cell_type": "code",
   "execution_count": 10,
   "metadata": {
    "collapsed": false
   },
   "outputs": [
    {
     "data": {
      "text/plain": [
       "<matplotlib.text.Text at 0x7fe6688f5780>"
      ]
     },
     "execution_count": 10,
     "metadata": {},
     "output_type": "execute_result"
    },
    {
     "data": {
      "image/png": "[encoded data removed]",
      "text/plain": [
       "<matplotlib.figure.Figure at 0x7fe6689504a8>"
      ]
     },
     "metadata": {},
     "output_type": "display_data"
    }
   ],
   "source": [
    "import matplotlib.pyplot as plt\n",
    "%matplotlib inline\n",
    "mean_ranking = star_wars[star_wars.columns[9:15]].mean()\n",
    "mean_ranking.plot.bar()\n",
    "plt.title('Bar plot of average ranking')\n",
    "plt.xlabel('Ranking')\n",
    "plt.ylabel('Average score')"
   ]
  },
  {
   "cell_type": "markdown",
   "metadata": {},
   "source": [
    "From the bar plots above we can see that `Star Wars: Episode V The Empire Strikes Back` generates the lowest ranking which means it is the most favorite. `Star Wars: Episode III Revenge of the Sith`, however, is the least favorite."
   ]
  },
  {
   "cell_type": "code",
   "execution_count": 11,
   "metadata": {
    "collapsed": false
   },
   "outputs": [
    {
     "data": {
      "text/plain": [
       "<matplotlib.axes._subplots.AxesSubplot at 0x7fe66868e0f0>"
      ]
     },
     "execution_count": 11,
     "metadata": {},
     "output_type": "execute_result"
    },
    {
     "data": {
      "image/png": "[encoded data removed]",
      "text/plain": [
       "<matplotlib.figure.Figure at 0x7fe644cf0358>"
      ]
     },
     "metadata": {},
     "output_type": "display_data"
    }
   ],
   "source": [
    "sum_movie = star_wars[star_wars.columns[3:9]].sum()\n",
    "sum_movie.plot.bar()"
   ]
  },
  {
   "cell_type": "markdown",
   "metadata": {},
   "source": [
    "`Star Wars: Episode V The Empire Strikes Back` has most views which explains why  it is the most favorite movie among the others"
   ]
  },
  {
   "cell_type": "markdown",
   "metadata": {},
   "source": [
    "#### 3.1 Male/Female"
   ]
  },
  {
   "cell_type": "code",
   "execution_count": 14,
   "metadata": {
    "collapsed": false
   },
   "outputs": [
    {
     "data": {
      "text/plain": [
       "<matplotlib.text.Text at 0x7fe668578438>"
      ]
     },
     "execution_count": 14,
     "metadata": {},
     "output_type": "execute_result"
    },
    {
     "data": {
      "image/png": "[encoded data removed]",
      "text/plain": [
       "<matplotlib.figure.Figure at 0x7fe6683e7ac8>"
      ]
     },
     "metadata": {},
     "output_type": "display_data"
    }
   ],
   "source": [
    "males = star_wars[star_wars['Gender'] == 'Male']\n",
    "females = star_wars[star_wars['Gender'] == 'Female']\n",
    "#Ranking\n",
    "fig = plt.figure(figsize=(5,10))\n",
    "ax1 = plt.subplot(2,1,1)\n",
    "ax1 = males[males.columns[9:15]].mean().plot.bar()\n",
    "ax1.set_title('Female Ranking')\n",
    "ax2 = plt.subplot(2,1,2)\n",
    "ax2 = females[females.columns[9:15]].mean().plot.bar()\n",
    "ax2.set_title('Male Ranking')"
   ]
  },
  {
   "cell_type": "code",
   "execution_count": 18,
   "metadata": {
    "collapsed": false
   },
   "outputs": [
    {
     "data": {
      "text/plain": [
       "<matplotlib.axes._subplots.AxesSubplot at 0x7fe6682457b8>"
      ]
     },
     "execution_count": 18,
     "metadata": {},
     "output_type": "execute_result"
    },
    {
     "data": {
      "image/png": "[encoded data removed]",
      "text/plain": [
       "<matplotlib.figure.Figure at 0x7fe6684f9c18>"
      ]
     },
     "metadata": {},
     "output_type": "display_data"
    }
   ],
   "source": [
    "males[males.columns[3:9]].sum().plot.bar()\n",
    "females[females.columns[3:9]].sum().plot.bar(color='Red')"
   ]
  },
  {
   "cell_type": "code",
   "execution_count": null,
   "metadata": {
    "collapsed": true
   },
   "outputs": [],
   "source": []
  },
  {
   "cell_type": "code",
   "execution_count": null,
   "metadata": {
    "collapsed": true
   },
   "outputs": [],
   "source": []
  },
  {
   "cell_type": "code",
   "execution_count": null,
   "metadata": {
    "collapsed": true
   },
   "outputs": [],
   "source": []
  }
 ],
 "metadata": {
  "kernelspec": {
   "display_name": "Python 3",
   "language": "python",
   "name": "python3"
  },
  "language_info": {
   "codemirror_mode": {
    "name": "ipython",
    "version": 3
   },
   "file_extension": ".py",
   "mimetype": "text/x-python",
   "name": "python",
   "nbconvert_exporter": "python",
   "pygments_lexer": "ipython3",
   "version": "3.4.3"
  }
 },
 "nbformat": 4,
 "nbformat_minor": 0
}
