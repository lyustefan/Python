{
 "cells": [
  {
   "cell_type": "markdown",
   "metadata": {},
   "source": [
    "## Regular Expression"
   ]
  },
  {
   "cell_type": "markdown",
   "metadata": {},
   "source": [
    "* Powerful function used to match pattern especially in text dataset"
   ]
  },
  {
   "cell_type": "code",
   "execution_count": 11,
   "metadata": {},
   "outputs": [
    {
     "name": "stdout",
     "output_type": "stream",
     "text": [
      "found word:cat\n",
      "<_sre.SRE_Match object; span=(11, 19), match='word:cat'>\n"
     ]
    }
   ],
   "source": [
    "import re\n",
    "string = \"an example word:cat!!\"\n",
    "match = re.search(r'word:\\w\\w\\w', string)\n",
    "\n",
    "# If-statement after search() tests if it succeeded\n",
    "if match:\n",
    "    print('found', match.group())\n",
    "else:\n",
    "    print('did not find')"
   ]
  },
  {
   "cell_type": "markdown",
   "metadata": {},
   "source": [
    "* match.group() gives the matching text\n",
    "* 'r' at the beginning designates a python 'raw' string which passes through backslashses without change"
   ]
  },
  {
   "cell_type": "markdown",
   "metadata": {},
   "source": [
    "### Basic Patterns"
   ]
  },
  {
   "cell_type": "markdown",
   "metadata": {},
   "source": [
    "* a, X, 9 <- ordinary characters just match themselves\n",
    "* . :matches any single character except newline \\n\n",
    "* \\w :a \"word\" character, a letter or digit or underbar[a-zA-Z0-9_]\n",
    "* \\W :any non-word character\n",
    "* \\b :boundary between word and non-word\n",
    "* \\s :single whitespace\n",
    "* \\S :non-whitespace character\n",
    "* \\t, \\n, \\r - tab, newline, return\n",
    "* \\d :decimal digit [0-9] \n",
    "* ^:start, $:end\n",
    "* \\:inhibit the specialness. E.g: \"\\\\.\" to match a period, \"\\\\\\\" to match a slash"
   ]
  },
  {
   "cell_type": "markdown",
   "metadata": {},
   "source": [
    "### Basic Example"
   ]
  },
  {
   "cell_type": "code",
   "execution_count": 18,
   "metadata": {},
   "outputs": [
    {
     "name": "stdout",
     "output_type": "stream",
     "text": [
      "found abc\n"
     ]
    }
   ],
   "source": [
    "# Search for pattern 'iii' in string 'piiig'\n",
    "match = re.search(r'iii', 'piiig')\n",
    "\n",
    "## . = any char but \\n\n",
    "match = re.search(r'..g', 'piiig')\n",
    "\n",
    "## \\d = digit char, \\w = word char\n",
    "match = re.search(r'\\d\\d\\d', 'p123g')\n",
    "match = re.search(r'\\w\\w\\w', '@@abcd!!')"
   ]
  },
  {
   "cell_type": "markdown",
   "metadata": {},
   "source": [
    "### Repetition"
   ]
  },
  {
   "cell_type": "markdown",
   "metadata": {},
   "source": [
    "* +: 1 or more times\n",
    "* *: 0 or more times\n",
    "* ?: 0 or 1 times"
   ]
  },
  {
   "cell_type": "code",
   "execution_count": 26,
   "metadata": {},
   "outputs": [
    {
     "data": {
      "text/plain": [
       "'foobar'"
      ]
     },
     "execution_count": 26,
     "metadata": {},
     "output_type": "execute_result"
    }
   ],
   "source": [
    "# i+ = one more i's, as many as possibles\n",
    "match = re.search(r'pi+', 'piiig')\n",
    "\n",
    "# Look for 3 digits, possibly seperated by whitespace\n",
    "match = re.search(r'\\d\\s*\\d\\s*\\d', \"xx1 2    3xx\")\n",
    "\n",
    "# matches the start of string\n",
    "match = re.search(r'^\\w+', 'foobar')"
   ]
  },
  {
   "cell_type": "markdown",
   "metadata": {},
   "source": [
    "### Email example"
   ]
  },
  {
   "cell_type": "code",
   "execution_count": 42,
   "metadata": {},
   "outputs": [
    {
     "data": {
      "text/plain": [
       "'b@google'"
      ]
     },
     "execution_count": 42,
     "metadata": {},
     "output_type": "execute_result"
    }
   ],
   "source": [
    "string = 'purple alice-b@google.com monkey dishwasher'\n",
    "exp = r'\\w+@\\w+'\n",
    "match = re.search(exp, string)\n",
    "match.group()"
   ]
  },
  {
   "cell_type": "markdown",
   "metadata": {},
   "source": [
    "### Square Brackets"
   ]
  },
  {
   "cell_type": "code",
   "execution_count": 41,
   "metadata": {},
   "outputs": [
    {
     "data": {
      "text/plain": [
       "'alice-b@google.com'"
      ]
     },
     "execution_count": 41,
     "metadata": {},
     "output_type": "execute_result"
    }
   ],
   "source": [
    "exp = r'[\\w.-]+@[\\w.-]+'\n",
    "match = re.search(exp, string)\n",
    "match.group()\n",
    "#[^ab] anything but \"a\" and \"b\""
   ]
  },
  {
   "cell_type": "markdown",
   "metadata": {},
   "source": [
    "### Group extraction"
   ]
  },
  {
   "cell_type": "markdown",
   "metadata": {},
   "source": [
    "* The group feature allows to pick parts of matching text. Add parenthesis () around the username and host in the pattern. The parenthesis do not change what the pattern will match, they instead establish logical \"groups\" inside the match text."
   ]
  },
  {
   "cell_type": "code",
   "execution_count": 40,
   "metadata": {},
   "outputs": [
    {
     "name": "stdout",
     "output_type": "stream",
     "text": [
      "alice-b@google.com\n",
      "alice-b\n",
      "google.com\n"
     ]
    }
   ],
   "source": [
    "string = 'purple alice-b@google.com monkey dishwasher'\n",
    "exp = '([\\w.-]+)@([\\w.-]+)'\n",
    "match = re.search(exp, string)\n",
    "if match:\n",
    "    print(match.group())\n",
    "    print(match.group(1))\n",
    "    print(match.group(2))"
   ]
  },
  {
   "cell_type": "markdown",
   "metadata": {},
   "source": [
    "### Find all"
   ]
  },
  {
   "cell_type": "markdown",
   "metadata": {},
   "source": [
    "* Re.search(): finds first match\n",
    "* findall(): returns all matches as list of strings"
   ]
  },
  {
   "cell_type": "code",
   "execution_count": 39,
   "metadata": {},
   "outputs": [
    {
     "name": "stdout",
     "output_type": "stream",
     "text": [
      "alice@google.com\n",
      "bob@abc.com\n"
     ]
    }
   ],
   "source": [
    "string = 'purple alice@google.com, blah monkey bob@abc.com blah dishwater'\n",
    "exp = r'[\\w\\.-]+@[\\w\\.-]+' # regex to match email address exactly\n",
    "emails = re.findall(exp, string) \n",
    "for email in emails:\n",
    "    print(email)"
   ]
  },
  {
   "cell_type": "markdown",
   "metadata": {},
   "source": [
    "### Findall with files"
   ]
  },
  {
   "cell_type": "code",
   "execution_count": 43,
   "metadata": {},
   "outputs": [
    {
     "ename": "FileNotFoundError",
     "evalue": "[Errno 2] No such file or directory: 'test.txt'",
     "output_type": "error",
     "traceback": [
      "\u001b[0;31m---------------------------------------------------------------------------\u001b[0m",
      "\u001b[0;31mFileNotFoundError\u001b[0m                         Traceback (most recent call last)",
      "\u001b[0;32m<ipython-input-43-48879a30a602>\u001b[0m in \u001b[0;36m<module>\u001b[0;34m()\u001b[0m\n\u001b[1;32m      1\u001b[0m \u001b[0;31m# open file\u001b[0m\u001b[0;34m\u001b[0m\u001b[0;34m\u001b[0m\u001b[0m\n\u001b[0;32m----> 2\u001b[0;31m \u001b[0mf\u001b[0m \u001b[0;34m=\u001b[0m \u001b[0mopen\u001b[0m\u001b[0;34m(\u001b[0m\u001b[0;34m\"test.txt\"\u001b[0m\u001b[0;34m,\u001b[0m \u001b[0;34m\"r\"\u001b[0m\u001b[0;34m)\u001b[0m\u001b[0;34m\u001b[0m\u001b[0m\n\u001b[0m\u001b[1;32m      3\u001b[0m \u001b[0;31m#\u001b[0m\u001b[0;34m\u001b[0m\u001b[0;34m\u001b[0m\u001b[0m\n\u001b[1;32m      4\u001b[0m \u001b[0mstrings\u001b[0m \u001b[0;34m=\u001b[0m \u001b[0mre\u001b[0m\u001b[0;34m.\u001b[0m\u001b[0mfindall\u001b[0m\u001b[0;34m(\u001b[0m\u001b[0;34mr'some patter'\u001b[0m\u001b[0;34m,\u001b[0m \u001b[0mf\u001b[0m\u001b[0;34m.\u001b[0m\u001b[0mread\u001b[0m\u001b[0;34m(\u001b[0m\u001b[0;34m)\u001b[0m\u001b[0;34m)\u001b[0m\u001b[0;34m\u001b[0m\u001b[0m\n",
      "\u001b[0;31mFileNotFoundError\u001b[0m: [Errno 2] No such file or directory: 'test.txt'"
     ]
    }
   ],
   "source": [
    "# open file\n",
    "f = open(\"test.txt\", \"r\")\n",
    "#\n",
    "strings = re.findall(r'some patter', f.read())"
   ]
  },
  {
   "cell_type": "markdown",
   "metadata": {},
   "source": [
    "### Findall and groups"
   ]
  },
  {
   "cell_type": "code",
   "execution_count": 60,
   "metadata": {},
   "outputs": [
    {
     "name": "stdout",
     "output_type": "stream",
     "text": [
      "[('alice', 'google.com'), ('bob', 'abc.com')]\n",
      "alice\n",
      "google.com\n",
      "bob\n",
      "abc.com\n"
     ]
    }
   ],
   "source": [
    "strings = 'purple alice@google.com, blah monkey bob@abc.com blah dishwater'\n",
    "tuples = re.findall(r'([\\w\\.-]+)@([\\w\\.-]+)', strings)\n",
    "print(tuples)\n",
    "for tuple in tuples:\n",
    "    print(tuple[0]) # username\n",
    "    print(tuple[1]) # host"
   ]
  },
  {
   "cell_type": "markdown",
   "metadata": {},
   "source": [
    "* Options\n",
    "    * IGNORECASE - ignore upper/lower case\n",
    "    * DOTALL - allow . to match newline \\n\n",
    "    * MULTILINE - allow ^ and $ to match the start and end of each line"
   ]
  },
  {
   "cell_type": "markdown",
   "metadata": {},
   "source": [
    "### Substitution"
   ]
  },
  {
   "cell_type": "markdown",
   "metadata": {},
   "source": [
    "* re.sub(exp, replacement, str) - returns new string with all replacements\n",
    "* \\1,\\2 will refer to the matched text from group 1 and group 2"
   ]
  },
  {
   "cell_type": "code",
   "execution_count": 59,
   "metadata": {},
   "outputs": [
    {
     "name": "stdout",
     "output_type": "stream",
     "text": [
      "purple alice@yo-yo-dyne.com, blah monkey bob@yo-yo-dyne.com blah dishwater\n"
     ]
    }
   ],
   "source": [
    "print(re.sub(r'([\\w\\.-]+)@([\\w\\.-]+)', r'\\1@yo-yo-dyne.com', strings))"
   ]
  },
  {
   "cell_type": "code",
   "execution_count": null,
   "metadata": {
    "collapsed": true
   },
   "outputs": [],
   "source": []
  }
 ],
 "metadata": {
  "kernelspec": {
   "display_name": "Python 3",
   "language": "python",
   "name": "python3"
  },
  "language_info": {
   "codemirror_mode": {
    "name": "ipython",
    "version": 3
   },
   "file_extension": ".py",
   "mimetype": "text/x-python",
   "name": "python",
   "nbconvert_exporter": "python",
   "pygments_lexer": "ipython3",
   "version": "3.6.4"
  }
 },
 "nbformat": 4,
 "nbformat_minor": 2
}
