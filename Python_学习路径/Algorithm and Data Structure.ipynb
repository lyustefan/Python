{
 "cells": [
  {
   "cell_type": "markdown",
   "metadata": {},
   "source": [
    "### Find minimum"
   ]
  },
  {
   "cell_type": "code",
   "execution_count": 39,
   "metadata": {
    "collapsed": true
   },
   "outputs": [],
   "source": [
    "def find_minimum(lst):\n",
    "    minimum = 0\n",
    "    for val in lst:\n",
    "        if val < minimum:\n",
    "            minimum = val\n",
    "\n",
    "    return minimum"
   ]
  },
  {
   "cell_type": "code",
   "execution_count": 40,
   "metadata": {},
   "outputs": [
    {
     "data": {
      "text/plain": [
       "0"
      ]
     },
     "execution_count": 40,
     "metadata": {},
     "output_type": "execute_result"
    }
   ],
   "source": [
    "find_minimum([1,3,2,0])"
   ]
  },
  {
   "cell_type": "markdown",
   "metadata": {},
   "source": [
    "### Check if two strings are anagram"
   ]
  },
  {
   "cell_type": "code",
   "execution_count": 41,
   "metadata": {
    "collapsed": true
   },
   "outputs": [],
   "source": [
    "# dont run too slow\n",
    "def anagramSolution1(s1,s2):\n",
    "    alist = list(s2)\n",
    "    \n",
    "    stillOK = True\n",
    "    pos1 = 0\n",
    "    \n",
    "    while pos1 < len(s1):\n",
    "        pos2 = 0\n",
    "        found = False\n",
    "        \n",
    "        while pos2 < len(alist) and not found:\n",
    "            if s1[pos1] == alist[pos2]:\n",
    "                found = True\n",
    "            else:\n",
    "                pos2 += 1\n",
    "        \n",
    "        if found:\n",
    "            alist[pos2] = None\n",
    "        else:\n",
    "            stillOK = False\n",
    "        \n",
    "    return stillOK"
   ]
  },
  {
   "cell_type": "code",
   "execution_count": 42,
   "metadata": {
    "collapsed": true
   },
   "outputs": [],
   "source": [
    "# O(nlogn) because sorting dominates the operation which takes O(nlogn)\n",
    "def sort_and_compare(s1,s2):\n",
    "    s1 = list(s1)\n",
    "    s2 = list(s2)\n",
    "    \n",
    "    s1.sort()\n",
    "    s2.sort()\n",
    "    \n",
    "    pos = 0\n",
    "    matches = True\n",
    "    \n",
    "    while pos < len(s1) and matches:\n",
    "        if s1[pos] != s2[pos]:\n",
    "            matches = False\n",
    "        else:\n",
    "            pos += 1\n",
    "    \n",
    "    return matches"
   ]
  },
  {
   "cell_type": "code",
   "execution_count": 43,
   "metadata": {
    "collapsed": true
   },
   "outputs": [],
   "source": [
    "# Linear solution, counter O(n)\n",
    "def counter_method(s1,s2):\n",
    "    c1 = [0] * 26\n",
    "    c2 = [0] * 26\n",
    "    \n",
    "    for i in range(len(s1)):\n",
    "        pos = ord(s1[i]) - ord('a')\n",
    "        c1[pos] += 1\n",
    "    \n",
    "    for i in range(len(s2)):\n",
    "        pos = ord(s2[i]) - ord('a')\n",
    "        c2[pos] += 1\n",
    "        \n",
    "    j = 0\n",
    "    stillok = True\n",
    "    \n",
    "    while j < len(c1):\n",
    "        if c1[j] == c2[j]:\n",
    "            j += 1\n",
    "        else:\n",
    "            stillok = False\n",
    "    \n",
    "    return stillok"
   ]
  },
  {
   "cell_type": "markdown",
   "metadata": {},
   "source": [
    "### Creating a list of size n"
   ]
  },
  {
   "cell_type": "code",
   "execution_count": 44,
   "metadata": {
    "collapsed": true
   },
   "outputs": [],
   "source": [
    "import time\n",
    "\n",
    "# concat\n",
    "def test1():\n",
    "    l = []\n",
    "    for i in range(1000):\n",
    "        l = l + [i]\n",
    "\n",
    "# append\n",
    "def test2():\n",
    "    l = []\n",
    "    for i in range(1000):\n",
    "        l.append(i)\n",
    "\n",
    "# comprehension        \n",
    "def test3():\n",
    "    l = [i for i in range(1000)]\n",
    "\n",
    "# list range\n",
    "def test4():\n",
    "    l = list(range(1000))"
   ]
  },
  {
   "cell_type": "code",
   "execution_count": 45,
   "metadata": {},
   "outputs": [
    {
     "name": "stdout",
     "output_type": "stream",
     "text": [
      "concat  1.2061115140095353 milliseconds\n",
      "append  0.07734867604449391 milliseconds\n",
      "comprehension  0.03795154904946685 milliseconds\n",
      "list range  0.019690602086484432 milliseconds\n"
     ]
    }
   ],
   "source": [
    "from timeit import Timer\n",
    "t1 = Timer(\"test1()\", \"from __main__ import test1\")\n",
    "print(\"concat \",t1.timeit(number=1000), \"milliseconds\")\n",
    "t2 = Timer(\"test2()\", \"from __main__ import test2\")\n",
    "print(\"append \",t2.timeit(number=1000), \"milliseconds\")\n",
    "t3 = Timer(\"test3()\", \"from __main__ import test3\")\n",
    "print(\"comprehension \",t3.timeit(number=1000), \"milliseconds\")\n",
    "t4 = Timer(\"test4()\", \"from __main__ import test4\")\n",
    "print(\"list range \",t4.timeit(number=1000), \"milliseconds\")"
   ]
  },
  {
   "cell_type": "markdown",
   "metadata": {
    "collapsed": true
   },
   "source": [
    "## Basic Data Structure"
   ]
  },
  {
   "cell_type": "markdown",
   "metadata": {},
   "source": [
    "#### Stack"
   ]
  },
  {
   "cell_type": "code",
   "execution_count": 46,
   "metadata": {
    "collapsed": true
   },
   "outputs": [],
   "source": [
    "# append and remove from the last of the list: LIFO (last in first out)\n",
    "class Stack:\n",
    "     def __init__(self):\n",
    "         self.items = []\n",
    "\n",
    "     def isEmpty(self):\n",
    "         return self.items == []\n",
    "\n",
    "     def push(self, item):\n",
    "         self.items.append(item) # O(1)\n",
    "\n",
    "     def pop(self):\n",
    "         return self.items.pop() # O(1)\n",
    "\n",
    "     def peek(self):\n",
    "         return self.items[len(self.items)-1]\n",
    "\n",
    "     def size(self):\n",
    "         return len(self.items)"
   ]
  },
  {
   "cell_type": "code",
   "execution_count": 47,
   "metadata": {
    "collapsed": true
   },
   "outputs": [],
   "source": [
    "from pythonds.basic.stack import Stack"
   ]
  },
  {
   "cell_type": "code",
   "execution_count": 48,
   "metadata": {},
   "outputs": [
    {
     "name": "stdout",
     "output_type": "stream",
     "text": [
      "True\n",
      "dog\n",
      "3\n",
      "False\n",
      "8.4\n",
      "True\n",
      "2\n"
     ]
    }
   ],
   "source": [
    "s=Stack()\n",
    "\n",
    "print(s.isEmpty())\n",
    "s.push(4)\n",
    "s.push('dog')\n",
    "print(s.peek())\n",
    "s.push(True)\n",
    "print(s.size())\n",
    "print(s.isEmpty())\n",
    "s.push(8.4)\n",
    "print(s.pop())\n",
    "print(s.pop())\n",
    "print(s.size())"
   ]
  },
  {
   "cell_type": "code",
   "execution_count": 49,
   "metadata": {
    "collapsed": true
   },
   "outputs": [],
   "source": [
    "class Stack:\n",
    "     def __init__(self):\n",
    "         self.items = []\n",
    "\n",
    "     def isEmpty(self):\n",
    "         return self.items == []\n",
    "\n",
    "     def push(self, item):\n",
    "         self.items.insert(0,item) # O(n)\n",
    "\n",
    "     def pop(self):\n",
    "         return self.items.pop(0) # O(1)\n",
    "\n",
    "     def peek(self):\n",
    "         return self.items[len(self.items)-1]\n",
    "\n",
    "     def size(self):\n",
    "         return len(self.items)"
   ]
  },
  {
   "cell_type": "markdown",
   "metadata": {},
   "source": [
    "### Balance parenthese checker"
   ]
  },
  {
   "cell_type": "code",
   "execution_count": 50,
   "metadata": {
    "collapsed": true
   },
   "outputs": [],
   "source": [
    "from pythonds.basic.stack import Stack\n",
    "\n",
    "def parChecker(symbolString):\n",
    "    s = Stack()\n",
    "    balanced = True\n",
    "    idx = 0\n",
    "    \n",
    "    while idx < len(symbolString):\n",
    "        string = symbolString[idx]\n",
    "        if string == '(':\n",
    "            s.push(string)\n",
    "        else:\n",
    "            if s.isEmpty():\n",
    "                balanced = False\n",
    "            else:\n",
    "                s.pop()\n",
    "        \n",
    "        idx += 1\n",
    "        \n",
    "    if balanced and s.isEmpty():\n",
    "        return True\n",
    "    else:\n",
    "        return False"
   ]
  },
  {
   "cell_type": "code",
   "execution_count": 51,
   "metadata": {},
   "outputs": [
    {
     "name": "stdout",
     "output_type": "stream",
     "text": [
      "False\n",
      "True\n"
     ]
    }
   ],
   "source": [
    "print(parChecker('())'))\n",
    "print(parChecker('(())'))"
   ]
  },
  {
   "cell_type": "markdown",
   "metadata": {},
   "source": [
    "### check for '{[('"
   ]
  },
  {
   "cell_type": "code",
   "execution_count": 52,
   "metadata": {},
   "outputs": [
    {
     "name": "stdout",
     "output_type": "stream",
     "text": [
      "True\n",
      "False\n"
     ]
    }
   ],
   "source": [
    "from pythonds.basic.stack import Stack\n",
    "\n",
    "def parChecker(symbolString):\n",
    "    s = Stack()\n",
    "    balanced = True\n",
    "    index = 0\n",
    "    while index < len(symbolString) and balanced:\n",
    "        symbol = symbolString[index]\n",
    "        if symbol in \"([{\":\n",
    "            s.push(symbol)\n",
    "        else:\n",
    "            if s.isEmpty():\n",
    "                balanced = False\n",
    "            else:\n",
    "                top = s.pop()\n",
    "                if not matches(top,symbol):\n",
    "                       balanced = False\n",
    "        index = index + 1\n",
    "    if balanced and s.isEmpty():\n",
    "        return True\n",
    "    else:\n",
    "        return False\n",
    "\n",
    "def matches(open,close):\n",
    "    opens = \"([{\"\n",
    "    closers = \")]}\"\n",
    "    return opens.index(open) == closers.index(close)\n",
    "\n",
    "print(parChecker('{{([][])}()}'))\n",
    "print(parChecker('[{()]'))"
   ]
  },
  {
   "cell_type": "markdown",
   "metadata": {},
   "source": [
    "### Divide by 2"
   ]
  },
  {
   "cell_type": "code",
   "execution_count": 53,
   "metadata": {
    "collapsed": true
   },
   "outputs": [],
   "source": [
    "def Divideby2(num):\n",
    "    s = Stack()\n",
    "    \n",
    "    while num > 0:\n",
    "        rem = num % 2\n",
    "        s.push(rem)\n",
    "        num = num // 2\n",
    "        \n",
    "    string = ''\n",
    "    while not s.isEmpty():\n",
    "        string += str(s.pop())\n",
    "        \n",
    "    return string"
   ]
  },
  {
   "cell_type": "code",
   "execution_count": 54,
   "metadata": {},
   "outputs": [
    {
     "data": {
      "text/plain": [
       "'11011111'"
      ]
     },
     "execution_count": 54,
     "metadata": {},
     "output_type": "execute_result"
    }
   ],
   "source": [
    "Divideby2(223)"
   ]
  },
  {
   "cell_type": "code",
   "execution_count": 55,
   "metadata": {
    "collapsed": true
   },
   "outputs": [],
   "source": [
    "def Dividebybase(num, base):\n",
    "    digits = \"0123456789ABCDEF\"\n",
    "    s = Stack()\n",
    "    \n",
    "    while num > 0:\n",
    "        rem = num % base\n",
    "        s.push(rem)\n",
    "        num = num // base\n",
    "    \n",
    "    string = ''\n",
    "    while not s.isEmpty():\n",
    "        string += digits[s.pop()]\n",
    "        \n",
    "    return string"
   ]
  },
  {
   "cell_type": "code",
   "execution_count": 56,
   "metadata": {},
   "outputs": [
    {
     "name": "stdout",
     "output_type": "stream",
     "text": [
      "100\n"
     ]
    }
   ],
   "source": [
    "print(Dividebybase(25,5))"
   ]
  },
  {
   "cell_type": "markdown",
   "metadata": {
    "collapsed": true
   },
   "source": [
    "#### Queue"
   ]
  },
  {
   "cell_type": "code",
   "execution_count": 57,
   "metadata": {
    "collapsed": true
   },
   "outputs": [],
   "source": [
    "class Queue:\n",
    "    def __init__(self):\n",
    "        self.items = []\n",
    "\n",
    "    def isEmpty(self):\n",
    "        return self.items == []\n",
    "\n",
    "    def enqueue(self, item):\n",
    "        self.items.insert(0,item)\n",
    "\n",
    "    def dequeue(self):\n",
    "        return self.items.pop()\n",
    "\n",
    "    def size(self):\n",
    "        return len(self.items)"
   ]
  },
  {
   "cell_type": "code",
   "execution_count": 58,
   "metadata": {
    "collapsed": true
   },
   "outputs": [],
   "source": [
    "from pythonds.basic.queue import Queue\n",
    "\n",
    "def hotpotato(namelist, num):\n",
    "    que = Queue()\n",
    "    for name in namelist:\n",
    "        que.enqueue(name)\n",
    "        \n",
    "    while que.size() > 1:\n",
    "        for i in range(num):\n",
    "            que.enqueue(que.dequeue())\n",
    "        \n",
    "        que.dequeue()\n",
    "        \n",
    "    return que.dequeue()"
   ]
  },
  {
   "cell_type": "code",
   "execution_count": 59,
   "metadata": {},
   "outputs": [
    {
     "name": "stdout",
     "output_type": "stream",
     "text": [
      "Susan\n"
     ]
    }
   ],
   "source": [
    "print(hotpotato([\"Bill\",\"David\",\"Susan\",\"Jane\",\"Kent\",\"Brad\"],7))"
   ]
  },
  {
   "cell_type": "code",
   "execution_count": 60,
   "metadata": {},
   "outputs": [
    {
     "name": "stdout",
     "output_type": "stream",
     "text": [
      "Average Wait  87.30 secs   2 tasks remaining.\n",
      "Average Wait  90.67 secs   1 tasks remaining.\n",
      "Average Wait  50.18 secs   2 tasks remaining.\n",
      "Average Wait 407.24 secs   5 tasks remaining.\n",
      "Average Wait 186.53 secs   2 tasks remaining.\n",
      "Average Wait 372.40 secs   1 tasks remaining.\n",
      "Average Wait  97.06 secs   0 tasks remaining.\n",
      "Average Wait  63.70 secs   1 tasks remaining.\n",
      "Average Wait  47.38 secs   0 tasks remaining.\n",
      "Average Wait 133.35 secs   0 tasks remaining.\n"
     ]
    }
   ],
   "source": [
    "from pythonds.basic.queue import Queue\n",
    "\n",
    "import random\n",
    "\n",
    "class Printer:\n",
    "    def __init__(self, ppm):\n",
    "        self.pagerate = ppm\n",
    "        self.currentTask = None\n",
    "        self.timeRemaining = 0\n",
    "\n",
    "    def tick(self):\n",
    "        if self.currentTask != None:\n",
    "            self.timeRemaining = self.timeRemaining - 1\n",
    "            if self.timeRemaining <= 0:\n",
    "                self.currentTask = None\n",
    "\n",
    "    def busy(self):\n",
    "        if self.currentTask != None:\n",
    "            return True\n",
    "        else:\n",
    "            return False\n",
    "\n",
    "    def startNext(self,newtask):\n",
    "        self.currentTask = newtask\n",
    "        self.timeRemaining = newtask.getPages() * 60/self.pagerate\n",
    "\n",
    "class Task:\n",
    "    def __init__(self,time):\n",
    "        self.timestamp = time\n",
    "        self.pages = random.randrange(1,21)\n",
    "\n",
    "    def getStamp(self):\n",
    "        return self.timestamp\n",
    "\n",
    "    def getPages(self):\n",
    "        return self.pages\n",
    "\n",
    "    def waitTime(self, currenttime):\n",
    "        return currenttime - self.timestamp\n",
    "\n",
    "\n",
    "def simulation(numSeconds, pagesPerMinute):\n",
    "\n",
    "    labprinter = Printer(pagesPerMinute)\n",
    "    printQueue = Queue()\n",
    "    waitingtimes = []\n",
    "\n",
    "    for currentSecond in range(numSeconds):\n",
    "\n",
    "      if newPrintTask():\n",
    "         task = Task(currentSecond)\n",
    "         printQueue.enqueue(task)\n",
    "\n",
    "      if (not labprinter.busy()) and (not printQueue.isEmpty()):\n",
    "        nexttask = printQueue.dequeue()\n",
    "        waitingtimes.append( nexttask.waitTime(currentSecond))\n",
    "        labprinter.startNext(nexttask)\n",
    "\n",
    "      labprinter.tick()\n",
    "\n",
    "    averageWait=sum(waitingtimes)/len(waitingtimes)\n",
    "    print(\"Average Wait %6.2f secs %3d tasks remaining.\"%(averageWait,printQueue.size()))\n",
    "\n",
    "def newPrintTask():\n",
    "    num = random.randrange(1,181)\n",
    "    if num == 180:\n",
    "        return True\n",
    "    else:\n",
    "        return False\n",
    "\n",
    "for i in range(10):\n",
    "    simulation(3600,5)"
   ]
  },
  {
   "cell_type": "markdown",
   "metadata": {},
   "source": [
    "#### deque"
   ]
  },
  {
   "cell_type": "code",
   "execution_count": 61,
   "metadata": {
    "collapsed": true
   },
   "outputs": [],
   "source": [
    "class Deque:\n",
    "    def __init__(self):\n",
    "        self.items = []\n",
    "\n",
    "    def isEmpty(self):\n",
    "        return self.items == []\n",
    "\n",
    "    def addFront(self, item):\n",
    "        self.items.append(item)\n",
    "\n",
    "    def addRear(self, item):\n",
    "        self.items.insert(0,item)\n",
    "\n",
    "    def removeFront(self):\n",
    "        return self.items.pop()\n",
    "\n",
    "    def removeRear(self):\n",
    "        return self.items.pop(0)\n",
    "\n",
    "    def size(self):\n",
    "        return len(self.items)"
   ]
  },
  {
   "cell_type": "code",
   "execution_count": 62,
   "metadata": {
    "collapsed": true
   },
   "outputs": [],
   "source": [
    "from pythonds.basic.deque import Deque\n",
    "def palindrome(aString):\n",
    "    char = Deque()\n",
    "    for ch in aString:\n",
    "        char.addRear(ch)\n",
    "    \n",
    "    stillok = True\n",
    "    while char.size() > 0 and stillok:\n",
    "        first = char.removeFront()\n",
    "        last = char.removeRear()\n",
    "        if first != last:\n",
    "            stillok = False\n",
    "    \n",
    "    return stillok"
   ]
  },
  {
   "cell_type": "code",
   "execution_count": 63,
   "metadata": {},
   "outputs": [
    {
     "name": "stdout",
     "output_type": "stream",
     "text": [
      "True\n",
      "False\n"
     ]
    }
   ],
   "source": [
    "print(palindrome(\"abcddcba\"))\n",
    "print(palindrome(\"abddaa\"))"
   ]
  },
  {
   "cell_type": "markdown",
   "metadata": {},
   "source": [
    "### Linked List"
   ]
  },
  {
   "cell_type": "code",
   "execution_count": 64,
   "metadata": {
    "collapsed": true
   },
   "outputs": [],
   "source": [
    "class Node:\n",
    "    def __init__(self,initdata):\n",
    "        self.data = initdata\n",
    "        self.next = None\n",
    "\n",
    "    def getData(self):\n",
    "        return self.data\n",
    "\n",
    "    def getNext(self):\n",
    "        return self.next\n",
    "\n",
    "    def setData(self,newdata):\n",
    "        self.data = newdata\n",
    "\n",
    "    def setNext(self,newnext):\n",
    "        self.next = newnext"
   ]
  },
  {
   "cell_type": "code",
   "execution_count": 65,
   "metadata": {},
   "outputs": [
    {
     "data": {
      "text/plain": [
       "93"
      ]
     },
     "execution_count": 65,
     "metadata": {},
     "output_type": "execute_result"
    }
   ],
   "source": [
    "temp = Node(93)\n",
    "temp.getData()"
   ]
  },
  {
   "cell_type": "code",
   "execution_count": 66,
   "metadata": {
    "collapsed": true
   },
   "outputs": [],
   "source": [
    "class UnorderedList:\n",
    "\n",
    "    def __init__(self):\n",
    "        self.head = None\n",
    "    \n",
    "    def isEmpty(self):\n",
    "        return self.head == None\n",
    "    \n",
    "    def add(self,item):\n",
    "        temp = Node(item)\n",
    "        temp.setNext(self.head)\n",
    "        self.head = temp\n",
    "        \n",
    "    def size(self):\n",
    "        current = self.head\n",
    "        count = 0\n",
    "        while current != None:\n",
    "            count = count + 1\n",
    "            current = current.getNext()\n",
    "\n",
    "        return count\n",
    "    \n",
    "    def search(self,item):\n",
    "        current = self.head\n",
    "        found = False\n",
    "        while current != None and not found:\n",
    "            if current.getData() == item:\n",
    "                found = True\n",
    "            else:\n",
    "                current = current.getNext()\n",
    "\n",
    "        return found\n",
    "    \n",
    "    def remove(self,item):\n",
    "        current = self.head\n",
    "        previous = None\n",
    "        found = False\n",
    "        while not found:\n",
    "            if current.getData() == item:\n",
    "                found = True\n",
    "            else:\n",
    "                previous = current\n",
    "                current = current.getNext()\n",
    "\n",
    "        if previous == None:\n",
    "            self.head = current.getNext()\n",
    "        else:\n",
    "            previous.setNext(current.getNext())"
   ]
  },
  {
   "cell_type": "code",
   "execution_count": 67,
   "metadata": {
    "collapsed": true
   },
   "outputs": [],
   "source": [
    "mylist = UnorderedList()\n",
    "\n",
    "mylist.add(31)\n",
    "mylist.add(77)\n",
    "mylist.add(17)\n",
    "mylist.add(93)\n",
    "mylist.add(26)\n",
    "mylist.add(54)"
   ]
  },
  {
   "cell_type": "code",
   "execution_count": 68,
   "metadata": {},
   "outputs": [
    {
     "name": "stdout",
     "output_type": "stream",
     "text": [
      "6\n",
      "True\n",
      "False\n"
     ]
    }
   ],
   "source": [
    "print(mylist.size())\n",
    "print(mylist.search(93))\n",
    "print(mylist.search(100))"
   ]
  },
  {
   "cell_type": "markdown",
   "metadata": {
    "collapsed": true
   },
   "source": [
    "### Recursion"
   ]
  },
  {
   "cell_type": "code",
   "execution_count": 33,
   "metadata": {
    "collapsed": true
   },
   "outputs": [],
   "source": [
    "def listsum(numList):\n",
    "    theSum = 0\n",
    "    for val in numList:\n",
    "        theSum += val\n",
    "    \n",
    "    return theSum"
   ]
  },
  {
   "cell_type": "code",
   "execution_count": 48,
   "metadata": {
    "collapsed": true
   },
   "outputs": [],
   "source": [
    "def listsum_recursion(numList):\n",
    "    if len(numList) == 1:\n",
    "        return numList[0]\n",
    "    else:\n",
    "        return numList[0] + listsum_recursion(numList[1:])"
   ]
  },
  {
   "cell_type": "code",
   "execution_count": 51,
   "metadata": {},
   "outputs": [
    {
     "name": "stdout",
     "output_type": "stream",
     "text": [
      "listsum  0.00039766402915120125 milliseconds\n",
      "recursion 0.0027913060039281845 milliseconds\n"
     ]
    }
   ],
   "source": [
    "from timeit import Timer\n",
    "t1 = Timer(\"listsum([1,2,3,4,5])\", \"from __main__ import listsum\")\n",
    "print(\"listsum \",t1.timeit(number=1000), \"milliseconds\")\n",
    "t2 = Timer(\"listsum_recursion([1,2,3,4,5])\", \"from __main__ import listsum_recursion\")\n",
    "print(\"recursion\", t2.timeit(number=1000), \"milliseconds\")"
   ]
  },
  {
   "cell_type": "code",
   "execution_count": 56,
   "metadata": {
    "collapsed": true
   },
   "outputs": [],
   "source": [
    "# Convert string\n",
    "def toStr(n, base):\n",
    "    convertString = \"0123456789ABCDEF\"\n",
    "    if n < base:\n",
    "        return convertString[n]\n",
    "    else:\n",
    "        return toStr(n//base, base) + convertString[n % base]"
   ]
  },
  {
   "cell_type": "code",
   "execution_count": 60,
   "metadata": {},
   "outputs": [
    {
     "name": "stdout",
     "output_type": "stream",
     "text": [
      "1453\n"
     ]
    }
   ],
   "source": [
    "print(toStr(1453, 10))"
   ]
  },
  {
   "cell_type": "code",
   "execution_count": 81,
   "metadata": {
    "collapsed": true
   },
   "outputs": [],
   "source": [
    "# reverse string\n",
    "def reverse_str(string):\n",
    "    if len(string) == 1:\n",
    "        return string[-1]\n",
    "    else:\n",
    "        return string[-1] + reverse_str(string[:-1])"
   ]
  },
  {
   "cell_type": "code",
   "execution_count": 82,
   "metadata": {
    "collapsed": true
   },
   "outputs": [],
   "source": [
    "# check palindrome\n",
    "def palindrome(s):\n",
    "    if len(s) == 0:\n",
    "        return True\n",
    "    if s[0] != s[-1]:\n",
    "        return False\n",
    "    else:\n",
    "        return palindrome(s[1:-1])"
   ]
  },
  {
   "cell_type": "code",
   "execution_count": 83,
   "metadata": {},
   "outputs": [
    {
     "data": {
      "text/plain": [
       "True"
      ]
     },
     "execution_count": 83,
     "metadata": {},
     "output_type": "execute_result"
    }
   ],
   "source": [
    "palindrome('kayak')"
   ]
  },
  {
   "cell_type": "code",
   "execution_count": null,
   "metadata": {
    "collapsed": true
   },
   "outputs": [],
   "source": [
    "from pythonds.basic.stack import Stack\n",
    "\n",
    "rStack = Stack()\n",
    "\n",
    "def toStr(n, base):\n",
    "    convertString = \"0123456789ABCDEF\"\n",
    "    while n > 0:\n",
    "        if n < base:\n",
    "            rStack.push(convertString[n])\n",
    "        else:\n",
    "            rStack.push(convertString[n % base])\n",
    "    n = n // base\n",
    "    \n",
    "    res = ''\n",
    "    while not rStack.isEmpty():\n",
    "        res = res + str(rStack.pop())\n",
    "    \n",
    "    return res\n",
    "\n",
    "print(toStr(1532,12))"
   ]
  },
  {
   "cell_type": "markdown",
   "metadata": {},
   "source": [
    "### Visualizing Recursion"
   ]
  },
  {
   "cell_type": "code",
   "execution_count": 1,
   "metadata": {
    "collapsed": true
   },
   "outputs": [],
   "source": [
    "import turtle\n",
    "\n",
    "myTurtle = turtle.Turtle()\n",
    "myWin = turtle.Screen()\n",
    "\n",
    "def drawSpiral(myTurtle, linelen):\n",
    "    if linelen > 0:\n",
    "        myTurtle.forward(linelen)\n",
    "        myTurtle.right(90)\n",
    "        drawSpiral(myTurtle, linelen - 5)\n",
    "        \n",
    "drawSpiral(myTurtle, 100)\n",
    "myWin.exitonclick()"
   ]
  },
  {
   "cell_type": "code",
   "execution_count": 22,
   "metadata": {
    "collapsed": true
   },
   "outputs": [],
   "source": [
    "# fractal tree\n",
    "def tree(branchLen, t):\n",
    "    if branchLen > 5:\n",
    "        t.forward(branchLen)\n",
    "        t.right(20)\n",
    "        tree(branchLen-15,t)\n",
    "        t.left(40)\n",
    "        tree(branchLen-15,t)\n",
    "        t.right(20)\n",
    "        t.backward(branchLen)\n",
    "        \n",
    "def main():\n",
    "    t = turtle.Turtle()\n",
    "    myWin = turtle.Screen()\n",
    "    t.left(90)\n",
    "    t.up()\n",
    "    t.backward(100)\n",
    "    t.down()\n",
    "    t.color('green')\n",
    "    tree(75,t)\n",
    "    myWin.exitonclick()\n",
    "    \n",
    "main()"
   ]
  },
  {
   "cell_type": "markdown",
   "metadata": {},
   "source": [
    "### Sierpinski Triangle"
   ]
  },
  {
   "cell_type": "code",
   "execution_count": 29,
   "metadata": {
    "collapsed": true
   },
   "outputs": [],
   "source": [
    "import turtle\n",
    "\n",
    "def drawTriangle(points,color,myTurtle):\n",
    "    myTurtle.fillcolor(color)\n",
    "    myTurtle.up()\n",
    "    myTurtle.goto(points[0][0],points[0][1])\n",
    "    myTurtle.down()\n",
    "    myTurtle.begin_fill()\n",
    "    myTurtle.goto(points[1][0],points[1][1])\n",
    "    myTurtle.goto(points[2][0],points[2][1])\n",
    "    myTurtle.goto(points[0][0],points[0][1])\n",
    "    myTurtle.end_fill()\n",
    "\n",
    "draw)t\n",
    "def getMid(p1,p2):\n",
    "    return ( (p1[0]+p2[0]) / 2, (p1[1] + p2[1]) / 2)\n",
    "\n",
    "def sierpinski(points,degree,myTurtle):\n",
    "    colormap = ['blue','red','green','white','yellow',\n",
    "                'violet','orange']\n",
    "    drawTriangle(points,colormap[degree],myTurtle)\n",
    "    if degree > 0:\n",
    "        sierpinski([points[0],\n",
    "                        getMid(points[0], points[1]),\n",
    "                        getMid(points[0], points[2])],\n",
    "                   degree-1, myTurtle)\n",
    "        sierpinski([points[1],\n",
    "                        getMid(points[0], points[1]),\n",
    "                        getMid(points[1], points[2])],\n",
    "                   degree-1, myTurtle)\n",
    "        sierpinski([points[2],\n",
    "                        getMid(points[2], points[1]),\n",
    "                        getMid(points[0], points[2])],\n",
    "                   degree-1, myTurtle)\n",
    "\n",
    "def main():\n",
    "   myTurtle = turtle.Turtle()\n",
    "   myWin = turtle.Screen()\n",
    "   myPoints = [[-100,-50],[0,100],[100,-50]]\n",
    "   sierpinski(myPoints,3,myTurtle)\n",
    "   myWin.exitonclick()\n",
    "\n",
    "main()"
   ]
  },
  {
   "cell_type": "markdown",
   "metadata": {},
   "source": [
    "### Tower of Hanoi"
   ]
  },
  {
   "cell_type": "code",
   "execution_count": 39,
   "metadata": {
    "collapsed": true
   },
   "outputs": [],
   "source": [
    "def moveTower(height, fromPole, toPole, withPole):\n",
    "    if height >= 1:\n",
    "        # move tower of height - 1 to an intermediate pole, using final pole\n",
    "        moveTower(height - 1, fromPole, withPole, toPole) \n",
    "        # move the remaining disk to final pole\n",
    "        moveDisk(fromPole, toPole)\n",
    "        # move tower of height - 1 from intermediate pople to final pole using original pole\n",
    "        moveTower(height - 1, withPole, toPole, fromPole) "
   ]
  },
  {
   "cell_type": "code",
   "execution_count": 40,
   "metadata": {
    "collapsed": true
   },
   "outputs": [],
   "source": [
    "def moveDisk(fp, tp):\n",
    "    print(\"moving disk from\",fp,'to',tp)"
   ]
  },
  {
   "cell_type": "code",
   "execution_count": 41,
   "metadata": {},
   "outputs": [
    {
     "name": "stdout",
     "output_type": "stream",
     "text": [
      "moving disk from A to B\n",
      "moving disk from A to C\n",
      "moving disk from B to C\n",
      "moving disk from A to B\n",
      "moving disk from C to A\n",
      "moving disk from C to B\n",
      "moving disk from A to B\n"
     ]
    }
   ],
   "source": [
    "moveTower(3,\"A\",\"B\",\"C\")"
   ]
  },
  {
   "cell_type": "markdown",
   "metadata": {},
   "source": [
    "### Vending Machine"
   ]
  },
  {
   "cell_type": "code",
   "execution_count": 59,
   "metadata": {
    "collapsed": true
   },
   "outputs": [],
   "source": [
    "def recMC(coinValueList, change):\n",
    "    minCoins = change\n",
    "    if change in coinValueList:\n",
    "        return 1\n",
    "    else:\n",
    "        for i in [c for c in coinValueList if c <= change]:\n",
    "            numCoins = 1 + recMC(coinValueList, change - i)\n",
    "            if numCoins < minCoins:\n",
    "                minCoins = numCoins\n",
    "    \n",
    "    return minCoins"
   ]
  },
  {
   "cell_type": "code",
   "execution_count": 60,
   "metadata": {},
   "outputs": [
    {
     "data": {
      "text/plain": [
       "3"
      ]
     },
     "execution_count": 60,
     "metadata": {},
     "output_type": "execute_result"
    }
   ],
   "source": [
    "recMC([1,5,10,21,25],63)"
   ]
  },
  {
   "cell_type": "code",
   "execution_count": 1,
   "metadata": {
    "collapsed": true
   },
   "outputs": [],
   "source": [
    "# Counting coins with table lookup\n",
    "def recDC(coinValueList, change, knownResults):\n",
    "    minCoins = change\n",
    "    if change in coinValueList:\n",
    "        knownResults[change] = 1\n",
    "        return 1\n",
    "    elif knownResults[change] > 0:\n",
    "        return knownResults[change]\n",
    "    else:\n",
    "        for i in [c for c in coinValueList if c <= change]:\n",
    "            numCoins = 1 + recDC(coinValueList, change - i, knownResults)\n",
    "            if numCoins < minCoins:\n",
    "                minCoins = numCoins\n",
    "                knownResults[change] = minCoins\n",
    "    \n",
    "    return minCoins"
   ]
  },
  {
   "cell_type": "code",
   "execution_count": 2,
   "metadata": {},
   "outputs": [
    {
     "data": {
      "text/plain": [
       "6"
      ]
     },
     "execution_count": 2,
     "metadata": {},
     "output_type": "execute_result"
    }
   ],
   "source": [
    "recDC([1,5,10,25],63,[0]*64)"
   ]
  },
  {
   "cell_type": "markdown",
   "metadata": {
    "collapsed": true
   },
   "source": [
    "## The sequential Search"
   ]
  },
  {
   "cell_type": "code",
   "execution_count": 11,
   "metadata": {},
   "outputs": [
    {
     "name": "stdout",
     "output_type": "stream",
     "text": [
      "Sequential search takes 4.57763671875e-05 seconds\n"
     ]
    }
   ],
   "source": [
    "import time\n",
    "\n",
    "def sequentialSearch(alist, item):\n",
    "    pos = 0\n",
    "    found = False\n",
    "    \n",
    "    while pos < len(alist) and not found:\n",
    "        if alist[pos] == item:\n",
    "            return True\n",
    "        else:\n",
    "            pos += 1\n",
    "        \n",
    "    return found\n",
    "\n",
    "start = time.time()\n",
    "sequentialSearch([1,2,3,4],3)\n",
    "end = time.time()\n",
    "print(\"Sequential search takes {} seconds\".format(end - start))"
   ]
  },
  {
   "cell_type": "code",
   "execution_count": 12,
   "metadata": {},
   "outputs": [
    {
     "name": "stdout",
     "output_type": "stream",
     "text": [
      "Ordered sequential search takes 4.696846008300781e-05 seconds\n"
     ]
    }
   ],
   "source": [
    "def orderedSequentialSearch(alist, item):\n",
    "    pos = 0\n",
    "    found = False\n",
    "    stop = False\n",
    "    \n",
    "    while pos < len(alist) and not found and not stop:\n",
    "        if alist[pos] == item:\n",
    "            return True\n",
    "        else:\n",
    "            if alist[pos] > item:\n",
    "                stop = True\n",
    "            else:\n",
    "                pos += 1\n",
    "    \n",
    "    return found\n",
    "\n",
    "start = time.time()\n",
    "orderedSequentialSearch([1,2,3,4],3)\n",
    "end = time.time()\n",
    "print(\"Ordered sequential search takes {} seconds\".format(end - start))"
   ]
  },
  {
   "cell_type": "markdown",
   "metadata": {},
   "source": [
    "## Binary Search"
   ]
  },
  {
   "cell_type": "code",
   "execution_count": 13,
   "metadata": {
    "collapsed": true
   },
   "outputs": [],
   "source": [
    "def binarySearch(alist, item):\n",
    "    l, r = 0, len(alist) - 1\n",
    "    found = False\n",
    "    \n",
    "    while l < r and not found:\n",
    "        midpoint = (l + r) // 2\n",
    "        if alist[midpoint] == item:\n",
    "            return True\n",
    "        else:\n",
    "            if alist[midpoint] > item:\n",
    "                r = midpoint - 1\n",
    "            else:\n",
    "                l = midpoint + 1\n",
    "    \n",
    "    return found"
   ]
  },
  {
   "cell_type": "code",
   "execution_count": 14,
   "metadata": {
    "collapsed": true
   },
   "outputs": [],
   "source": [
    "def binarySerach_recursion(alist, item):\n",
    "    if len(alist) == 0:\n",
    "        return False\n",
    "    else:\n",
    "        midpoint = len(alist) // 2\n",
    "        if alist[midpoint] == item:\n",
    "            return True\n",
    "        else:\n",
    "            if item < alist[midpoint]:\n",
    "                return binarySearch_recursion(alist[:midpoint],item)\n",
    "            else:\n",
    "                return binarySearch_recursion(alist[midpoint+1:],item)"
   ]
  },
  {
   "cell_type": "markdown",
   "metadata": {},
   "source": [
    "## Hashing"
   ]
  },
  {
   "cell_type": "code",
   "execution_count": 29,
   "metadata": {
    "collapsed": true
   },
   "outputs": [],
   "source": [
    "def hash(astring, tablesize):\n",
    "    sum = 0\n",
    "    for pos in range(len(astring)):\n",
    "        sum += ord(astring[pos])\n",
    "        \n",
    "    return sum%tablesize"
   ]
  },
  {
   "cell_type": "markdown",
   "metadata": {},
   "source": [
    "## Sorting"
   ]
  },
  {
   "cell_type": "code",
   "execution_count": 34,
   "metadata": {
    "collapsed": true
   },
   "outputs": [],
   "source": [
    "def bubbleSort(alist):\n",
    "    for sublist in range(len(alist)-1, 0, -1):\n",
    "        for i in range(sublist):\n",
    "            if alist[i+1] < alist[i]:\n",
    "                alist[i], alist[i+1] = alist[i+1], alist[i]\n",
    "                \n",
    "    return alist"
   ]
  },
  {
   "cell_type": "code",
   "execution_count": 35,
   "metadata": {},
   "outputs": [
    {
     "data": {
      "text/plain": [
       "[1, 2, 3, 4]"
      ]
     },
     "execution_count": 35,
     "metadata": {},
     "output_type": "execute_result"
    }
   ],
   "source": [
    "bubbleSort([1,3,2,4])"
   ]
  },
  {
   "cell_type": "code",
   "execution_count": null,
   "metadata": {
    "collapsed": true
   },
   "outputs": [],
   "source": [
    "def shortbubble(alist):\n",
    "    exchanges = True\n",
    "    passnum = len(alist) - 1\n",
    "    while passnum > 0 and exchanges:\n",
    "        exchanges = False\n",
    "        for i in range(passnum):\n",
    "            if alist[i] > alist[i+1]:\n",
    "                exchanges = True\n",
    "                alist[i],alist[i+1] = alist[i+1],alist[i]\n",
    "        passnum -= 1\n",
    "    \n",
    "    \n",
    "alist = [1,2,3]\n",
    "shortbubble(alist)\n",
    "\n",
    "print(alist)"
   ]
  },
  {
   "cell_type": "markdown",
   "metadata": {},
   "source": [
    "### The selection sort"
   ]
  },
  {
   "cell_type": "code",
   "execution_count": 4,
   "metadata": {},
   "outputs": [
    {
     "name": "stdout",
     "output_type": "stream",
     "text": [
      "[1, 2, 3, 3, 4, 6, 7]\n"
     ]
    }
   ],
   "source": [
    "def selectionsort(alist):\n",
    "    for fillshot in range(len(alist)-1,0,-1):\n",
    "        maxposition = 0\n",
    "        for i in range(1,fillshot+1):\n",
    "            if alist[i] > alist[maxposition]:\n",
    "                maxposition = i\n",
    "        \n",
    "        alist[fillshot], alist[maxposition] = alist[maxposition], alist[fillshot]\n",
    "    \n",
    "a = [2,3,1,4,6,7,3]\n",
    "selectionsort(a)\n",
    "print(a)"
   ]
  },
  {
   "cell_type": "markdown",
   "metadata": {},
   "source": [
    "### The insertion sort"
   ]
  },
  {
   "cell_type": "code",
   "execution_count": 5,
   "metadata": {
    "collapsed": true
   },
   "outputs": [],
   "source": [
    "def insertionsort(alist):\n",
    "    for index in range(1,len(alist)):\n",
    "        \n",
    "        curr = alist[index]\n",
    "        position = index\n",
    "        \n",
    "        while position > 0 and alist[position - 1] > curr:\n",
    "            alist[position] = alist[position - 1]\n",
    "            position = position - 1\n",
    "            \n",
    "        alist[position] = curr"
   ]
  },
  {
   "cell_type": "markdown",
   "metadata": {},
   "source": [
    "### The shellsort"
   ]
  },
  {
   "cell_type": "code",
   "execution_count": 6,
   "metadata": {
    "collapsed": true
   },
   "outputs": [],
   "source": [
    "def shellsort(alist):\n",
    "    sublistcount = len(alist)//2\n",
    "    while sublistcount > 0:\n",
    "        for startposition in range(sublistcount):\n",
    "            gapInsertionSort(alist,startposition,sublistcount)\n",
    "        print(\"after increment of size\",sublistcount, \"the list is\", alist)\n",
    "        \n",
    "        sublistcount = sublistcount //2\n",
    "        \n",
    "def gapInsertionSort(alist, start, gap):\n",
    "    for i in range(start+gap, len(alist), gap):\n",
    "        \n",
    "        curr = alist[i]\n",
    "        position = i\n",
    "        while position >= gap and alist[position - gap] > curr:\n",
    "            alist[position] = alist[position - gap]\n",
    "            position = position - gap\n",
    "            \n",
    "        alist[position] = curr"
   ]
  }
 ],
 "metadata": {
  "kernelspec": {
   "display_name": "Python 3",
   "language": "python",
   "name": "python3"
  },
  "language_info": {
   "codemirror_mode": {
    "name": "ipython",
    "version": 3
   },
   "file_extension": ".py",
   "mimetype": "text/x-python",
   "name": "python",
   "nbconvert_exporter": "python",
   "pygments_lexer": "ipython3",
   "version": "3.6.4"
  }
 },
 "nbformat": 4,
 "nbformat_minor": 2
}
