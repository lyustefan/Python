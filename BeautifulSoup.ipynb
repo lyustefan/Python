{
 "cells": [
  {
   "cell_type": "markdown",
   "metadata": {},
   "source": [
    "### Using Python BeautifulSoup to scrape DataCamp Tutorial"
   ]
  },
  {
   "cell_type": "markdown",
   "metadata": {},
   "source": [
    "* Most contributing authors\n",
    "* Timeline of contributor\n",
    "* Camparing upvotes vs. number of articles published"
   ]
  },
  {
   "cell_type": "markdown",
   "metadata": {},
   "source": [
    "* The following information will be scraped\n",
    "    * Author\n",
    "    * Publish Date\n",
    "    * Title\n",
    "    * Description\n",
    "    * Up Votes"
   ]
  },
  {
   "cell_type": "code",
   "execution_count": 2,
   "metadata": {},
   "outputs": [],
   "source": [
    "import pandas as pd\n",
    "import numpy as np\n",
    "import matplotlib.pyplot as plt\n",
    "import seaborn as sns\n",
    "%matplotlib inline\n",
    "import re\n",
    "import time\n",
    "from datetime import datetime\n",
    "import matplotlib.dates as mdates\n",
    "import matplotlib.ticker as ticker\n",
    "from urllib.request import urlopen\n",
    "from bs4 import BeautifulSoup"
   ]
  },
  {
   "cell_type": "markdown",
   "metadata": {},
   "source": [
    "A sample URL that we're going to loop and scrape is the following https://www.datacamp.com/community/tutorials?page=2. As we can see, the page=2 argument changes for each page. In order to loop through all the pages to get the necessary dataset, we need to find out the number of pages."
   ]
  },
  {
   "cell_type": "code",
   "execution_count": 3,
   "metadata": {},
   "outputs": [
    {
     "name": "stderr",
     "output_type": "stream",
     "text": [
      "/anaconda/lib/python3.6/site-packages/bs4/__init__.py:181: UserWarning: No parser was explicitly specified, so I'm using the best available HTML parser for this system (\"lxml\"). This usually isn't a problem, but if you run this code on another system, or in a different virtual environment, it may use a different parser and behave differently.\n",
      "\n",
      "The code that caused this warning is on line 193 of the file /anaconda/lib/python3.6/runpy.py. To get rid of this warning, change code that looks like this:\n",
      "\n",
      " BeautifulSoup(YOUR_MARKUP})\n",
      "\n",
      "to this:\n",
      "\n",
      " BeautifulSoup(YOUR_MARKUP, \"lxml\")\n",
      "\n",
      "  markup_type=markup_type))\n"
     ]
    }
   ],
   "source": [
    "url = 'https://www.datacamp.com/community/tutorials'\n",
    "html = urlopen(url)\n",
    "soup = BeautifulSoup(html, 'html')"
   ]
  },
  {
   "cell_type": "code",
   "execution_count": 27,
   "metadata": {},
   "outputs": [
    {
     "name": "stdout",
     "output_type": "stream",
     "text": [
      "17\n"
     ]
    }
   ],
   "source": [
    "pages = [i.text for i in soup.find_all('a') if 'community/tutorials?page=' in str(i)]\n",
    "lastpage = pages[-1]\n",
    "print(lastpage)"
   ]
  },
  {
   "cell_type": "markdown",
   "metadata": {},
   "source": [
    "* Specify the URL to a variable\n",
    "* Open the url using urlopen\n",
    "* Scraped the specified page and assign to soup variable\n",
    "* Identify all hyperlinks on the page and filter those with 'community/tutorials?page=' in it\n",
    "* The text value of the last found url is the last page to be scraped"
   ]
  },
  {
   "cell_type": "code",
   "execution_count": 74,
   "metadata": {},
   "outputs": [
    {
     "data": {
      "text/plain": [
       "[<a class=\"jsx-2090414051 Logo__image\" href=\"https://www.datacamp.com\"><svg viewbox=\"0 0 1367.47 306.77\" xmlns=\"http://www.w3.org/2000/svg\"><path d=\"M201.49 130.16c2.64-10.87 2.31-21.09-3.62-35.38 0 0 9.55 3.71 8.56-3.65S194.91 76 187 71.11c-3.48-2.17-12.89-6.79-25.52-9.6l2.36-5.32-.66-.32c-19.59-9.54-42.24-.89-42.47-.8l-.7.27 2.24 5.92a78 78 0 0 0-19 7.09C50 96.68 77 152 93.5 165.17s8.89 40 0 64.31H165c1-4.55.13 2.24 3.46-15.91s16.18-11.41 26.3-12 8.52-7.66 8.4-15.56c4.94-2.22 4.94-4.57 1.64-7.41 4.28-4 3.62-4 1.32-7.83s-.66-5.68-.66-5.68 6.92-1.35 7.9-5c.32-7.89-14.5-19.09-11.87-29.93zm-14.78-2.28l-10.59-3.6c-.56 1.45-6 14.9-13 17.27l-6.68-8.84c-3.21 2.51-10.54 4.72-14.07 3.69v-.32h-.19l.2 24.36c-14.05 1.45-30.84-7.06-38.88-18.77l-8.78 6.67c-10-12.07-11.51-26.62-11.62-35h11.77c0-9.27 3.62-21.34 8.72-28l9.23 6.52c.75-.93 7.72-9.27 17.05-12.28h.14l-6.67-17.64c14.09-4.06 24.44-4 35.7.19a3.87 3.87 0 0 1 1 .48l.18.13-1.99 5.26c.53.23 8 3.59 11.09 6.74l2.49-3.44a42.47 42.47 0 0 1 19 25.34L187 98v-.1a55.32 55.32 0 0 1-.28 29.98z\"></path><path d=\"M141.69 95.69a11.77 11.77 0 1 0 11.76 11.77 11.78 11.78 0 0 0-11.76-11.77zM486.07 147.93a85.48 85.48 0 0 1-5.79 31.92 71.67 71.67 0 0 1-41.54 41.32 89 89 0 0 1-32.79 5.83h-60.24V68.9h60.23a88.33 88.33 0 0 1 32.79 5.85A74 74 0 0 1 464 91a72.76 72.76 0 0 1 16.29 25 85.49 85.49 0 0 1 5.78 31.93zm-30.17 0a73.61 73.61 0 0 0-3.44-23.34 48.4 48.4 0 0 0-9.95-17.49 43.45 43.45 0 0 0-15.74-11 54 54 0 0 0-20.82-3.83h-30.72v111.3h30.72a54 54 0 0 0 20.82-3.83 43.39 43.39 0 0 0 15.74-11 48.37 48.37 0 0 0 9.95-17.49 73.6 73.6 0 0 0 3.44-23.32zM505.36 130.44q19.35-17.71 46.57-17.71a45.54 45.54 0 0 1 17.6 3.22 37.21 37.21 0 0 1 13.12 9 38.4 38.4 0 0 1 8.14 13.72 52.72 52.72 0 0 1 2.79 17.49V227h-12.25a12.38 12.38 0 0 1-5.9-1.15q-2.08-1.15-3.28-4.65l-2.4-8.09a97.29 97.29 0 0 1-8.31 6.72 48.91 48.91 0 0 1-8.42 4.86 45.32 45.32 0 0 1-9.35 3 53.93 53.93 0 0 1-11 1 43.08 43.08 0 0 1-13.12-1.91 28.78 28.78 0 0 1-10.38-5.74 25.73 25.73 0 0 1-6.78-9.51 33.72 33.72 0 0 1-2.4-13.23 26.32 26.32 0 0 1 1.42-8.47 24.76 24.76 0 0 1 4.65-8 38.63 38.63 0 0 1 8.36-7.21 54.43 54.43 0 0 1 12.63-5.9 109.08 109.08 0 0 1 17.44-4.1 174.35 174.35 0 0 1 22.74-1.91v-6.56q0-11.26-4.81-16.67t-13.88-5.41a33 33 0 0 0-10.88 1.53 44.91 44.91 0 0 0-7.6 3.44q-3.28 1.91-6 3.44a11.78 11.78 0 0 1-6 1.53 7.79 7.79 0 0 1-4.81-1.48 12.33 12.33 0 0 1-3.17-3.44zm61.87 48.64a149.08 149.08 0 0 0-19.68 2 52.42 52.42 0 0 0-12.79 3.77 16.8 16.8 0 0 0-6.89 5.36 11.63 11.63 0 0 0-2.08 6.67q0 7.11 4.21 10.17t11 3.06a32 32 0 0 0 14.37-3 42.69 42.69 0 0 0 11.86-9.11zM657.79 228.72q-14.65 0-22.46-8.25t-7.82-22.79V135H616a5.26 5.26 0 0 1-3.72-1.42 5.53 5.53 0 0 1-1.53-4.26v-10.68l18-3 5.68-30.61a6 6 0 0 1 2.08-3.39 6.18 6.18 0 0 1 3.94-1.2h14v35.36h30V135h-30v60.78q0 5.25 2.57 8.2a8.85 8.85 0 0 0 7 3 12.7 12.7 0 0 0 4.21-.6 23 23 0 0 0 3-1.26q1.26-.66 2.24-1.26a3.75 3.75 0 0 1 2-.6 3.1 3.1 0 0 1 2 .6 9.23 9.23 0 0 1 1.64 1.8l8.09 13.12a40.87 40.87 0 0 1-13.55 7.43 50.47 50.47 0 0 1-15.86 2.51zM702.11 130.44q19.35-17.71 46.57-17.71a45.54 45.54 0 0 1 17.6 3.22 37.19 37.19 0 0 1 13.12 9 38.37 38.37 0 0 1 8.14 13.72 52.72 52.72 0 0 1 2.79 17.49V227h-12.25a12.37 12.37 0 0 1-5.9-1.15q-2.08-1.15-3.28-4.65l-2.4-8.09a97.21 97.21 0 0 1-8.31 6.72 49 49 0 0 1-8.42 4.86 45.33 45.33 0 0 1-9.35 3 53.92 53.92 0 0 1-11 1 43.08 43.08 0 0 1-13.12-1.91 28.78 28.78 0 0 1-10.38-5.74 25.74 25.74 0 0 1-6.78-9.51 33.72 33.72 0 0 1-2.4-13.23 26.31 26.31 0 0 1 1.42-8.47 24.76 24.76 0 0 1 4.65-8 38.66 38.66 0 0 1 8.36-7.21 54.45 54.45 0 0 1 12.63-5.9 109.07 109.07 0 0 1 17.44-4.1 174.32 174.32 0 0 1 22.76-1.93v-6.56q0-11.26-4.81-16.67t-13.88-5.41a33 33 0 0 0-10.88 1.53 44.89 44.89 0 0 0-7.6 3.44q-3.28 1.91-6 3.44a11.79 11.79 0 0 1-6 1.53 7.79 7.79 0 0 1-4.81-1.48 12.33 12.33 0 0 1-3.17-3.44zM764 179.09a149.06 149.06 0 0 0-19.68 2 52.43 52.43 0 0 0-12.79 3.77 16.81 16.81 0 0 0-6.89 5.36 11.63 11.63 0 0 0-2.08 6.67q0 7.11 4.21 10.17t11 3.06a32 32 0 0 0 14.37-3A42.68 42.68 0 0 0 764 198zM929.42 189.69a5.87 5.87 0 0 1 4.26 1.86l11.59 12.57a63.64 63.64 0 0 1-23.67 18.26q-14 6.34-33.72 6.34-17.6 0-31.65-6a69.71 69.71 0 0 1-24-16.73A73.19 73.19 0 0 1 817 180.4a96 96 0 0 1-5.3-32.47 90.36 90.36 0 0 1 5.68-32.63 75 75 0 0 1 16-25.52A72.5 72.5 0 0 1 858 73.11a81.77 81.77 0 0 1 31.7-6q17.27 0 30.66 5.68a73.08 73.08 0 0 1 22.83 14.91l-9.84 13.66a9 9 0 0 1-2.24 2.29 6.35 6.35 0 0 1-3.77 1 7.2 7.2 0 0 1-3.39-.93q-1.75-.93-3.83-2.29t-4.81-3a39.67 39.67 0 0 0-6.34-3 51.92 51.92 0 0 0-8.36-2.29 57.87 57.87 0 0 0-11-.93A48.74 48.74 0 0 0 870.23 96a42.16 42.16 0 0 0-15.14 10.93 50.38 50.38 0 0 0-9.84 17.49 73.27 73.27 0 0 0-3.5 23.56 69.25 69.25 0 0 0 3.77 23.72 52.12 52.12 0 0 0 10.22 17.49 43.61 43.61 0 0 0 15.2 10.81 47 47 0 0 0 18.8 3.77 81.89 81.89 0 0 0 10.88-.66 46.17 46.17 0 0 0 9-2.08 39.7 39.7 0 0 0 7.76-3.66 48.48 48.48 0 0 0 7.27-5.52 10.31 10.31 0 0 1 2.29-1.58 5.56 5.56 0 0 1 2.48-.58zM961.6 130.44q19.35-17.71 46.57-17.71a45.54 45.54 0 0 1 17.6 3.22 37.19 37.19 0 0 1 13.12 9 38.37 38.37 0 0 1 8.14 13.72 52.72 52.72 0 0 1 2.79 17.49V227h-12.24a12.37 12.37 0 0 1-5.9-1.15q-2.08-1.15-3.28-4.65l-2.4-8.09a97.21 97.21 0 0 1-8.31 6.72 49 49 0 0 1-8.42 4.86 45.33 45.33 0 0 1-9.35 3 53.92 53.92 0 0 1-11 1 43.08 43.08 0 0 1-13.12-1.91 28.78 28.78 0 0 1-10.38-5.74 25.74 25.74 0 0 1-6.78-9.51 33.73 33.73 0 0 1-2.4-13.23 26.31 26.31 0 0 1 1.42-8.47 24.76 24.76 0 0 1 4.65-8 38.66 38.66 0 0 1 8.36-7.21 54.45 54.45 0 0 1 12.63-5.9 109.07 109.07 0 0 1 17.44-4.1 174.32 174.32 0 0 1 22.74-1.91v-6.56q0-11.26-4.81-16.67t-13.88-5.41a33 33 0 0 0-10.88 1.53 44.89 44.89 0 0 0-7.6 3.44q-3.28 1.91-6 3.44a11.79 11.79 0 0 1-6 1.53 7.79 7.79 0 0 1-4.81-1.48 12.33 12.33 0 0 1-3.17-3.44zm61.87 48.64a149.06 149.06 0 0 0-19.68 2 52.43 52.43 0 0 0-12.79 3.8 16.81 16.81 0 0 0-6.89 5.36 11.63 11.63 0 0 0-2.08 6.67q0 7.11 4.21 10.17t11 3.06a32 32 0 0 0 14.37-3 42.68 42.68 0 0 0 11.86-9.13zM1078.18 227V114.81h16.51a6.63 6.63 0 0 1 6.89 4.92l1.75 8.31a63.82 63.82 0 0 1 6.18-6 39.66 39.66 0 0 1 6.89-4.7 37.29 37.29 0 0 1 7.87-3.12 35.05 35.05 0 0 1 9.24-1.15q10.6 0 17.43 5.74a34.56 34.56 0 0 1 10.22 15.25 34.23 34.23 0 0 1 6.56-9.57 35.9 35.9 0 0 1 8.63-6.5 39.77 39.77 0 0 1 10-3.72 48.07 48.07 0 0 1 10.66-1.2 44.82 44.82 0 0 1 16.51 2.84 31.69 31.69 0 0 1 12.13 8.31 36.63 36.63 0 0 1 7.49 13.34 58.1 58.1 0 0 1 2.57 18V227h-27v-71.41q0-10.71-4.7-16.12t-13.77-5.41a20.57 20.57 0 0 0-7.71 1.42 18.37 18.37 0 0 0-6.23 4.1 18.73 18.73 0 0 0-4.21 6.72 26.13 26.13 0 0 0-1.53 9.29V227h-27.11v-71.41q0-11.26-4.54-16.4t-13.28-5.14a21.83 21.83 0 0 0-11 2.9 36.66 36.66 0 0 0-9.46 7.92V227zM1289.85 130.12a58.51 58.51 0 0 1 15.63-12.57q8.74-4.81 20.55-4.81a36.79 36.79 0 0 1 16.78 3.83 37.68 37.68 0 0 1 13.12 11.09 53.26 53.26 0 0 1 8.53 17.93 90.21 90.21 0 0 1 3 24.43 76.84 76.84 0 0 1-3.39 23.28 57 57 0 0 1-9.67 18.58 44.72 44.72 0 0 1-15.19 12.3 44.22 44.22 0 0 1-19.95 4.43 40.23 40.23 0 0 1-16.07-2.9 39.23 39.23 0 0 1-11.92-8v45.91h-27V114.81h16.51a6.63 6.63 0 0 1 6.89 4.92zm1.42 67.77a26.57 26.57 0 0 0 10 7.87 29.76 29.76 0 0 0 11.75 2.3 25.79 25.79 0 0 0 11-2.3 21.63 21.63 0 0 0 8.36-7 34.62 34.62 0 0 0 5.3-11.86 67.79 67.79 0 0 0 1.86-16.89 75 75 0 0 0-1.58-16.67 32.22 32.22 0 0 0-4.54-11.09 17.92 17.92 0 0 0-7.16-6.23 22.34 22.34 0 0 0-9.57-2 27.28 27.28 0 0 0-14.32 3.55 43.46 43.46 0 0 0-11.15 10z\"></path><path d=\"M144.06 306.77a9.83 9.83 0 0 1-4.72-1.21L23.79 242a9.82 9.82 0 0 1-5-7.56L.06 57.52a9.77 9.77 0 0 1 6.5-10.29L139.37.55a9.88 9.88 0 0 1 6.43 0L281.5 47.2a9.86 9.86 0 0 1 6.5 10.47L266.47 234.6a9.85 9.85 0 0 1-4.91 7.35l-112.68 63.56a9.84 9.84 0 0 1-4.82 1.26zm-110-77l110 60.49 107.22-60.48L271.89 60.5 142.64 16 16.15 60.5z\"></path></svg></a>,\n",
       " <a class=\"jsx-2919104997 item\" href=\"/community\" target=\"_self\"><div class=\"jsx-2919104997 image\"><svg height=\"14\" viewbox=\"0 0 23 23\" xmlns=\"http://www.w3.org/2000/svg\"><path d=\"M2 4.5h20a1.5 1.5 0 0 1 0 3H2a1.5 1.5 0 0 1 0-3zm0 6h14a1.5 1.5 0 0 1 0 3H2a1.5 1.5 0 0 1 0-3zm0 6h20a1.5 1.5 0 0 1 0 3H2a1.5 1.5 0 0 1 0-3z\" id=\"a\"></path></svg></div><div class=\"jsx-2919104997 text\">News</div><div class=\"jsx-2919104997 statusIcon\"><svg height=\"20\" viewbox=\"0 0 40 20\" width=\"40\" xmlns=\"http://www.w3.org/2000/svg\"><g fill=\"none\" fill-rule=\"evenodd\"><rect fill=\"#FFC844\" height=\"20\" rx=\"4\" width=\"40\"></rect><text fill=\"#3D4251\" font-family=\"Lato-Bold, Lato\" font-size=\"11\" font-weight=\"bold\" letter-spacing=\".5\"><tspan x=\"5\" y=\"14\">BETA</tspan></text></g></svg></div></a>,\n",
       " <a class=\"jsx-2919104997 item active\" href=\"/community/tutorials\" target=\"_self\"><div class=\"jsx-2919104997 image\"><svg height=\"14\" viewbox=\"0 0 32 24.22\" xmlns=\"http://www.w3.org/2000/svg\"><path d=\"M16.23 24.22a2 2 0 0 1-.73-.14L7 20.79a2 2 0 0 1-1.29-1.88v-4a1.5 1.5 0 0 1 3 0v3.36l7.54 2.92 7.54-2.92v-3.45a1.5 1.5 0 0 1 3 0v4.09a2 2 0 0 1-1.29 1.88L17 24.08a2 2 0 0 1-.77.14zm-.35-2.94zm.7 0z\"></path><path d=\"M16.23 13.35a2 2 0 0 1-.62-.1C9.17 11.16 2.36 9 1.61 8.76a2 2 0 0 1-.25-3.87l14-4.78a2 2 0 0 1 1.3 0l14 4.78a2 2 0 0 1 0 3.81l-13.8 4.55a2 2 0 0 1-.63.1zm-.31-3zM5.21 6.74c3.49 1.11 9.07 2.92 11 3.56l10.68-3.53L16 3.05z\"></path></svg></div><div class=\"jsx-2919104997 text\">Tutorials</div></a>,\n",
       " <a class=\"jsx-2919104997 item\" href=\"/community/data-science-cheatsheets\" target=\"_self\"><div class=\"jsx-2919104997 image\"><svg height=\"14\" viewbox=\"0 0 24 26\" xmlns=\"http://www.w3.org/2000/svg\"><path d=\"M18.5 26h-13A5.51 5.51 0 0 1 0 20.5v-15A5.51 5.51 0 0 1 5.5 0h13A5.51 5.51 0 0 1 24 5.5v15a5.51 5.51 0 0 1-5.5 5.5zM5.5 3A2.5 2.5 0 0 0 3 5.5v15A2.5 2.5 0 0 0 5.5 23h13a2.5 2.5 0 0 0 2.5-2.5v-15A2.5 2.5 0 0 0 18.5 3z\"></path><path d=\"M16 11H8a1.5 1.5 0 0 1 0-3h8a1.5 1.5 0 0 1 0 3zM16 18H8a1.5 1.5 0 0 1 0-3h8a1.5 1.5 0 0 1 0 3z\"></path></svg></div><div class=\"jsx-2919104997 text\">Cheat Sheets</div></a>,\n",
       " <a class=\"jsx-2919104997 item\" href=\"/community/open-courses\" target=\"_self\"><div class=\"jsx-2919104997 image\"><svg height=\"14\" viewbox=\"0 0 34 26\" xmlns=\"http://www.w3.org/2000/svg\"><path d=\"M28.5 26h-23A5.51 5.51 0 0 1 0 20.5v-15A5.51 5.51 0 0 1 5.5 0h23A5.51 5.51 0 0 1 34 5.5v15a5.51 5.51 0 0 1-5.5 5.5zM5.5 3A2.5 2.5 0 0 0 3 5.5v15A2.5 2.5 0 0 0 5.5 23h23a2.5 2.5 0 0 0 2.5-2.5v-15A2.5 2.5 0 0 0 28.5 3z\"></path><path d=\"M13.5 26a1.5 1.5 0 0 1-1.5-1.5v-22a1.5 1.5 0 0 1 3 0v22a1.5 1.5 0 0 1-1.5 1.5zM27 11h-8a1.5 1.5 0 0 1 0-3h8a1.5 1.5 0 0 1 0 3zM27 18h-8a1.5 1.5 0 0 1 0-3h8a1.5 1.5 0 0 1 0 3z\"></path></svg></div><div class=\"jsx-2919104997 text\">Open Courses</div></a>,\n",
       " <a class=\"jsx-2919104997 item\" href=\"/community/podcast\" target=\"_self\"><div class=\"jsx-2919104997 image\"><svg height=\"14\" viewbox=\"0 0 18 18\" width=\"18\" xmlns=\"http://www.w3.org/2000/svg\"><path d=\"M9.415 11.077h-.369a2.777 2.777 0 0 1-2.769-2.77V2.77A2.777 2.777 0 0 1 9.047 0h.368a2.777 2.777 0 0 1 2.77 2.77v5.538a2.777 2.777 0 0 1-2.77 2.769zm5.008-7.615c.573 0 1.039.464 1.039 1.038v3.462c0 3.08-2.25 5.64-5.193 6.136v1.825h2.077a1.038 1.038 0 1 1 0 2.077h-6.23a1.038 1.038 0 1 1 0-2.077h2.076v-1.825C5.25 13.602 3 11.042 3 7.962V4.5a1.038 1.038 0 1 1 2.077 0v3.462a4.158 4.158 0 0 0 4.154 4.153 4.158 4.158 0 0 0 4.154-4.153V4.5c0-.574.465-1.038 1.038-1.038z\"></path></svg></div><div class=\"jsx-2919104997 text\">Podcast - DataFramed</div></a>,\n",
       " <a class=\"jsx-2919104997 item\" href=\"/community/chat\" target=\"_self\"><div class=\"jsx-2919104997 image\"><svg height=\"14\" viewbox=\"0 0 18 16\" xmlns=\"http://www.w3.org/2000/svg\"><g transform=\"translate(0 -1)\"><path d=\"M12.595 13.364c.01-.111.02-.197.028-.251.058-.405.372-.702.74-.702h1.257c1.035-.002 1.875-.934 1.88-2.082V4.764c-.001-1.155-.842-2.092-1.878-2.094H3.38c-1.034.002-1.873.931-1.88 2.076v5.565c.001 1.156.842 2.092 1.878 2.094h6.626c.292 0 .557.189.68.484.408.977 1.07 1.576 1.94 1.85a6.004 6.004 0 0 1-.03-1.375h.001zm1.51 1.119c.048.314.136.521.235.606.566.487.258 1.497-.458 1.497-1.87 0-3.423-.785-4.33-2.51H3.376C1.513 14.07.004 12.39 0 10.311V4.74C.014 2.673 1.52 1.004 3.378 1h11.245c1.864.004 3.373 1.686 3.377 3.763v5.57c-.01 2.07-1.518 3.744-3.378 3.748h-.551c.004.138.016.273.035.402h-.001zm-8.423-5.81a1.115 1.115 0 1 0 0-2.229 1.115 1.115 0 0 0 0 2.229zm3.268 0a1.115 1.115 0 1 0 0-2.229 1.115 1.115 0 0 0 0 2.229zm3.318 0a1.114 1.114 0 1 0 0-2.229 1.114 1.114 0 0 0 0 2.229z\" id=\"path-1\"></path></g></svg></div><div class=\"jsx-2919104997 text\">Chat</div><div class=\"jsx-2919104997 statusIcon\"><svg height=\"20\" viewbox=\"0 0 40 17\" width=\"40\" xmlns=\"http://www.w3.org/2000/svg\"><g fill=\"none\" fill-rule=\"evenodd\"><rect fill=\"#36D57D\" height=\"17\" rx=\"4\" width=\"40\"></rect><text fill=\"#FFF\" font-family=\"Lato-Bold, Lato\" font-size=\"12\" font-weight=\"bold\" letter-spacing=\".4\"><tspan x=\"5\" y=\"13\">NEW</tspan></text></g></svg></div></a>,\n",
       " <a class=\"jsx-2919104997 item\" href=\"/community/blog\" target=\"_self\"><div class=\"jsx-2919104997 image\"><svg height=\"14\" id=\"Réteg_1\" viewbox=\"0 0 17 18\" xmlns=\"http://www.w3.org/2000/svg\"><path d=\"M12.3 9.8s-.1.1 0 .4c.1.2.2.2-.1.5.2.2.2.3-.1.5 0 .5.1.9-.5 1-.6 0-1.4-.4-1.7.8-.2 1.1-.2.7-.2 1H5.3c.6-1.5 1-3.2 0-4-1.1-1-2.7-4.4.6-6.2.4-.2.8-.3 1.2-.4L6.9 3s1.4-.5 2.7.1v.2c.8.2 1.4.5 1.6.6.5.3 1.2.8 1.2 1.3.1.5-.5.2-.5.2.4.9.4 1.5.2 2.2-.2.7.8 1.4.7 1.9-.1.3-.5.3-.5.3m4.2-7L8.6 0h-.4L.4 2.8c-.3.1-.4.3-.4.6l1.1 10.4c0 .2.1.4.3.4l6.8 3.7c.2.1.4.1.6 0l6.6-3.7c.2-.1.3-.3.3-.4L17 3.4c-.1-.3-.2-.5-.5-.6M8.3 7c-.4 0-.7-.4-.7-.8s.3-.7.7-.7c.4 0 .7.3.7.7 0 .4-.3.8-.7.8zm2.9-1.4l.2-.1c-.3-1-1.2-1.5-1.2-1.5l-.2.2c-.1-.2-.6-.4-.7-.5l.1-.3h-.1c-.6-.3-1.3-.3-2.1 0l.4 1.1c-.6.2-1.1.7-1.1.7l-.6-.4c-.3.5-.5 1.2-.5 1.8h-.8c0 .5.1 1.4.7 2.2l.6-.4c.5.7 1.6 1.3 2.4 1.2V8.1c.3 0 .7-.1.9-.3l.4.6c.4-.1.8-1 .8-1.1l.7.2c.2-.6.2-1.3.1-1.9z\" id=\"path-1_1_\"></path></svg></div><div class=\"jsx-2919104997 text\">Official Blog</div></a>,\n",
       " <a class=\"jsx-2919104997 item\" href=\"/community/tech\" target=\"_self\"><div class=\"jsx-2919104997 image\"><svg height=\"14\" viewbox=\"0 0 21.75 29.76\" xmlns=\"http://www.w3.org/2000/svg\"><path d=\"M15.56 22.57a1.5 1.5 0 0 1-1.5-1.5 7.66 7.66 0 0 1 2.47-5.29 7.38 7.38 0 0 0 2.21-5.31A7.48 7.48 0 0 0 11.28 3h-.82a7.47 7.47 0 0 0-5.2 12.83 7.63 7.63 0 0 1 2.42 5.23 1.5 1.5 0 0 1-3 0 4.65 4.65 0 0 0-1.45-3A10.47 10.47 0 0 1 10.47 0h.82a10.47 10.47 0 0 1 7.28 18 4.68 4.68 0 0 0-1.5 3.08 1.5 1.5 0 0 1-1.51 1.49zM16.5 24.26a5.5 5.5 0 0 1-11 0\"></path><path d=\"M10.89 22.56a1.5 1.5 0 0 1-1.5-1.5v-8.84a1.5 1.5 0 0 1 3 0v8.84a1.5 1.5 0 0 1-1.5 1.5z\"></path></svg></div><div class=\"jsx-2919104997 text\">Tech Thoughts</div></a>,\n",
       " <a class=\"jsx-1827070644 item allTags\">all tags<!-- --> <span class=\"jsx-1827070644 icon\"><svg viewbox=\"0 0 13.97 8.3\" xmlns=\"http://www.w3.org/2000/svg\"><path d=\"M0 1.32A1.32 1.32 0 0 1 2.25.39L7 5.12 11.73.39a1.32 1.32 0 0 1 1.86 1.86L7.92 7.92a1.32 1.32 0 0 1-1.86 0L.39 2.25A1.31 1.31 0 0 1 0 1.32z\"></path></svg></span></a>,\n",
       " <a class=\"jsx-1827070644 item active\" href=\"/community/tutorials\">latest</a>,\n",
       " <a class=\"jsx-1827070644 item\" href=\"/community/tutorials?posts_selected_tab=must_read\">must read</a>,\n",
       " <a class=\"jsx-379356511\" href=\"/community/tutorials/json-data-python\">JSON Data in Python</a>,\n",
       " <a class=\"jsx-566588255\" href=\"/profile/mwitiderrick\" target=\"_blank\"><div class=\"jsx-3208234818 Avatar\" style=\"background-image:url(https://res.cloudinary.com/dyd911kmh/image/fetch/t_avatar_thumbnail/https://graph.facebook.com/1773522159532926/picture?width=150&amp;height=150);border-radius:20px;min-width:40px;min-height:40px\"></div><div class=\"jsx-566588255 info\"><div class=\"jsx-566588255 name\">Derrick Mwiti</div><div class=\"jsx-566588255 date\"><span>November 2nd, 2018</span></div></div></a>,\n",
       " <a class=\"jsx-1531915454 icon\" href=\"https://www.facebook.com/sharer.php?u=https://www.datacamp.com/community/tutorials/json-data-python\" rel=\"noopener noreferrer\" target=\"_blank\"><svg height=\"12\" viewbox=\"0 0 11.73 22.58\" xmlns=\"http://www.w3.org/2000/svg\"><path d=\"M7.61 22.58v-10.3h3.46l.52-4h-4V5.7c0-1.16.32-2 2-2h2.13V.16A28.47 28.47 0 0 0 8.63 0C5.56 0 3.47 1.87 3.47 5.31v3H0v4h3.47v10.3h4.14z\"></path></svg></a>,\n",
       " <a class=\"jsx-1531915454 icon centerIcon\" href=\"https://twitter.com/intent/tweet?url=https://www.datacamp.com/community/tutorials/json-data-python\" rel=\"noopener noreferrer\" target=\"_blank\"><svg height=\"10\" viewbox=\"0 0 20.42 16.67\" xmlns=\"http://www.w3.org/2000/svg\"><path d=\"M10 5.18c0-.28-.06-.53-.07-.78a4 4 0 0 1 .73-2.57A4.08 4.08 0 0 1 13.93 0 4 4 0 0 1 17 1.15a.43.43 0 0 0 .46.12 8.68 8.68 0 0 0 2.2-.84l.2-.1a4.36 4.36 0 0 1-1.75 2.28A9 9 0 0 0 20.42 2l-.21.3a3.83 3.83 0 0 1-.23.3A8.45 8.45 0 0 1 18.5 4a.28.28 0 0 0-.13.27A12 12 0 0 1 17 10.18a11.8 11.8 0 0 1-3.37 4.11 11.17 11.17 0 0 1-4.39 2.06 12.53 12.53 0 0 1-4.44.22 11.87 11.87 0 0 1-4.74-1.73L0 14.79a8.6 8.6 0 0 0 6.16-1.74 4.28 4.28 0 0 1-3.91-2.91h.95a6.18 6.18 0 0 0 .89-.12A4.2 4.2 0 0 1 .8 5.88a4 4 0 0 0 1.81.49 4.23 4.23 0 0 1-1.78-3A4.07 4.07 0 0 1 1.38.79 12.06 12.06 0 0 0 10 5.18z\" id=\"iOjKBC.tif\"></path></svg></a>,\n",
       " <a class=\"jsx-1531915454 icon\" href=\"https://www.linkedin.com/cws/share?url=https://www.datacamp.com/community/tutorials/json-data-python\" rel=\"noopener noreferrer\" target=\"_blank\"><svg height=\"10\" viewbox=\"0 0 16.99 17\" xmlns=\"http://www.w3.org/2000/svg\"><path d=\"M3.85 17H.34V5.67h3.51zM2.07 4.18a2.09 2.09 0 1 1 2.08-2.09 2.08 2.08 0 0 1-2.08 2.09zM17 17h-3.5v-5.95c0-1.63-.62-2.54-1.91-2.54s-2.14.95-2.14 2.54V17H6.09V5.67h3.36v1.52a4 4 0 0 1 3.42-1.87c2.4 0 4.12 1.47 4.12 4.5V17z\"></path></svg></a>,\n",
       " <a class=\"jsx-1022557955 more\">+<!-- -->1</a>,\n",
       " <a class=\"jsx-379356511\" href=\"/community/tutorials/essentials-linear-regression-python\">Essentials of Linear Regression in Python</a>,\n",
       " <a class=\"jsx-566588255\" href=\"/profile/spsayakpaul\" target=\"_blank\"><div class=\"jsx-3208234818 Avatar\" style=\"background-image:url(https://res.cloudinary.com/dyd911kmh/image/fetch/t_avatar_thumbnail/https://assets.datacamp.com/users/avatars/000/535/025/square/16992445_1296531833771983_8323505949942728934_o.jpg?1534160082);border-radius:20px;min-width:40px;min-height:40px\"></div><div class=\"jsx-566588255 info\"><div class=\"jsx-566588255 name\">Sayak  Paul</div><div class=\"jsx-566588255 date\"><span>October 31st, 2018</span></div></div></a>,\n",
       " <a class=\"jsx-1022557955 more\">+<!-- -->1</a>,\n",
       " <a class=\"jsx-1531915454 icon\" href=\"https://www.facebook.com/sharer.php?u=https://www.datacamp.com/community/tutorials/essentials-linear-regression-python\" rel=\"noopener noreferrer\" target=\"_blank\"><svg height=\"12\" viewbox=\"0 0 11.73 22.58\" xmlns=\"http://www.w3.org/2000/svg\"><path d=\"M7.61 22.58v-10.3h3.46l.52-4h-4V5.7c0-1.16.32-2 2-2h2.13V.16A28.47 28.47 0 0 0 8.63 0C5.56 0 3.47 1.87 3.47 5.31v3H0v4h3.47v10.3h4.14z\"></path></svg></a>,\n",
       " <a class=\"jsx-1531915454 icon centerIcon\" href=\"https://twitter.com/intent/tweet?url=https://www.datacamp.com/community/tutorials/essentials-linear-regression-python\" rel=\"noopener noreferrer\" target=\"_blank\"><svg height=\"10\" viewbox=\"0 0 20.42 16.67\" xmlns=\"http://www.w3.org/2000/svg\"><path d=\"M10 5.18c0-.28-.06-.53-.07-.78a4 4 0 0 1 .73-2.57A4.08 4.08 0 0 1 13.93 0 4 4 0 0 1 17 1.15a.43.43 0 0 0 .46.12 8.68 8.68 0 0 0 2.2-.84l.2-.1a4.36 4.36 0 0 1-1.75 2.28A9 9 0 0 0 20.42 2l-.21.3a3.83 3.83 0 0 1-.23.3A8.45 8.45 0 0 1 18.5 4a.28.28 0 0 0-.13.27A12 12 0 0 1 17 10.18a11.8 11.8 0 0 1-3.37 4.11 11.17 11.17 0 0 1-4.39 2.06 12.53 12.53 0 0 1-4.44.22 11.87 11.87 0 0 1-4.74-1.73L0 14.79a8.6 8.6 0 0 0 6.16-1.74 4.28 4.28 0 0 1-3.91-2.91h.95a6.18 6.18 0 0 0 .89-.12A4.2 4.2 0 0 1 .8 5.88a4 4 0 0 0 1.81.49 4.23 4.23 0 0 1-1.78-3A4.07 4.07 0 0 1 1.38.79 12.06 12.06 0 0 0 10 5.18z\" id=\"iOjKBC.tif\"></path></svg></a>,\n",
       " <a class=\"jsx-1531915454 icon\" href=\"https://www.linkedin.com/cws/share?url=https://www.datacamp.com/community/tutorials/essentials-linear-regression-python\" rel=\"noopener noreferrer\" target=\"_blank\"><svg height=\"10\" viewbox=\"0 0 16.99 17\" xmlns=\"http://www.w3.org/2000/svg\"><path d=\"M3.85 17H.34V5.67h3.51zM2.07 4.18a2.09 2.09 0 1 1 2.08-2.09 2.08 2.08 0 0 1-2.08 2.09zM17 17h-3.5v-5.95c0-1.63-.62-2.54-1.91-2.54s-2.14.95-2.14 2.54V17H6.09V5.67h3.36v1.52a4 4 0 0 1 3.42-1.87c2.4 0 4.12 1.47 4.12 4.5V17z\"></path></svg></a>,\n",
       " <a class=\"jsx-1022557955 more\">+<!-- -->2</a>,\n",
       " <a class=\"jsx-379356511\" href=\"/community/tutorials/introduction-mongodb-python\">Introduction to MongoDB and Python</a>,\n",
       " <a class=\"jsx-566588255\" href=\"/profile/mwitiderrick\" target=\"_blank\"><div class=\"jsx-3208234818 Avatar\" style=\"background-image:url(https://res.cloudinary.com/dyd911kmh/image/fetch/t_avatar_thumbnail/https://graph.facebook.com/1773522159532926/picture?width=150&amp;height=150);border-radius:20px;min-width:40px;min-height:40px\"></div><div class=\"jsx-566588255 info\"><div class=\"jsx-566588255 name\">Derrick Mwiti</div><div class=\"jsx-566588255 date\"><span>October 30th, 2018</span></div></div></a>,\n",
       " <a class=\"jsx-1022557955 more\">+<!-- -->2</a>,\n",
       " <a class=\"jsx-1531915454 icon\" href=\"https://www.facebook.com/sharer.php?u=https://www.datacamp.com/community/tutorials/introduction-mongodb-python\" rel=\"noopener noreferrer\" target=\"_blank\"><svg height=\"12\" viewbox=\"0 0 11.73 22.58\" xmlns=\"http://www.w3.org/2000/svg\"><path d=\"M7.61 22.58v-10.3h3.46l.52-4h-4V5.7c0-1.16.32-2 2-2h2.13V.16A28.47 28.47 0 0 0 8.63 0C5.56 0 3.47 1.87 3.47 5.31v3H0v4h3.47v10.3h4.14z\"></path></svg></a>,\n",
       " <a class=\"jsx-1531915454 icon centerIcon\" href=\"https://twitter.com/intent/tweet?url=https://www.datacamp.com/community/tutorials/introduction-mongodb-python\" rel=\"noopener noreferrer\" target=\"_blank\"><svg height=\"10\" viewbox=\"0 0 20.42 16.67\" xmlns=\"http://www.w3.org/2000/svg\"><path d=\"M10 5.18c0-.28-.06-.53-.07-.78a4 4 0 0 1 .73-2.57A4.08 4.08 0 0 1 13.93 0 4 4 0 0 1 17 1.15a.43.43 0 0 0 .46.12 8.68 8.68 0 0 0 2.2-.84l.2-.1a4.36 4.36 0 0 1-1.75 2.28A9 9 0 0 0 20.42 2l-.21.3a3.83 3.83 0 0 1-.23.3A8.45 8.45 0 0 1 18.5 4a.28.28 0 0 0-.13.27A12 12 0 0 1 17 10.18a11.8 11.8 0 0 1-3.37 4.11 11.17 11.17 0 0 1-4.39 2.06 12.53 12.53 0 0 1-4.44.22 11.87 11.87 0 0 1-4.74-1.73L0 14.79a8.6 8.6 0 0 0 6.16-1.74 4.28 4.28 0 0 1-3.91-2.91h.95a6.18 6.18 0 0 0 .89-.12A4.2 4.2 0 0 1 .8 5.88a4 4 0 0 0 1.81.49 4.23 4.23 0 0 1-1.78-3A4.07 4.07 0 0 1 1.38.79 12.06 12.06 0 0 0 10 5.18z\" id=\"iOjKBC.tif\"></path></svg></a>,\n",
       " <a class=\"jsx-1531915454 icon\" href=\"https://www.linkedin.com/cws/share?url=https://www.datacamp.com/community/tutorials/introduction-mongodb-python\" rel=\"noopener noreferrer\" target=\"_blank\"><svg height=\"10\" viewbox=\"0 0 16.99 17\" xmlns=\"http://www.w3.org/2000/svg\"><path d=\"M3.85 17H.34V5.67h3.51zM2.07 4.18a2.09 2.09 0 1 1 2.08-2.09 2.08 2.08 0 0 1-2.08 2.09zM17 17h-3.5v-5.95c0-1.63-.62-2.54-1.91-2.54s-2.14.95-2.14 2.54V17H6.09V5.67h3.36v1.52a4 4 0 0 1 3.42-1.87c2.4 0 4.12 1.47 4.12 4.5V17z\"></path></svg></a>,\n",
       " <a class=\"jsx-1022557955 more\">+<!-- -->2</a>,\n",
       " <a class=\"jsx-379356511\" href=\"/community/tutorials/merging-datasets-r\">Merging Datasets in R</a>,\n",
       " <a class=\"jsx-566588255\" href=\"/profile/tommyjee\" target=\"_blank\"><div class=\"jsx-3208234818 Avatar\" style=\"background-image:url(https://res.cloudinary.com/dyd911kmh/image/fetch/t_avatar_thumbnail/https://assets.datacamp.com/users/avatars/000/329/323/square/tom.jpg?1465645479);border-radius:20px;min-width:40px;min-height:40px\"></div><div class=\"jsx-566588255 info\"><div class=\"jsx-566588255 name\">Tom Jeon</div><div class=\"jsx-566588255 date\"><span>October 29th, 2018</span></div></div></a>,\n",
       " <a class=\"jsx-1022557955 more\">+<!-- -->2</a>,\n",
       " <a class=\"jsx-1531915454 icon\" href=\"https://www.facebook.com/sharer.php?u=https://www.datacamp.com/community/tutorials/merging-datasets-r\" rel=\"noopener noreferrer\" target=\"_blank\"><svg height=\"12\" viewbox=\"0 0 11.73 22.58\" xmlns=\"http://www.w3.org/2000/svg\"><path d=\"M7.61 22.58v-10.3h3.46l.52-4h-4V5.7c0-1.16.32-2 2-2h2.13V.16A28.47 28.47 0 0 0 8.63 0C5.56 0 3.47 1.87 3.47 5.31v3H0v4h3.47v10.3h4.14z\"></path></svg></a>,\n",
       " <a class=\"jsx-1531915454 icon centerIcon\" href=\"https://twitter.com/intent/tweet?url=https://www.datacamp.com/community/tutorials/merging-datasets-r\" rel=\"noopener noreferrer\" target=\"_blank\"><svg height=\"10\" viewbox=\"0 0 20.42 16.67\" xmlns=\"http://www.w3.org/2000/svg\"><path d=\"M10 5.18c0-.28-.06-.53-.07-.78a4 4 0 0 1 .73-2.57A4.08 4.08 0 0 1 13.93 0 4 4 0 0 1 17 1.15a.43.43 0 0 0 .46.12 8.68 8.68 0 0 0 2.2-.84l.2-.1a4.36 4.36 0 0 1-1.75 2.28A9 9 0 0 0 20.42 2l-.21.3a3.83 3.83 0 0 1-.23.3A8.45 8.45 0 0 1 18.5 4a.28.28 0 0 0-.13.27A12 12 0 0 1 17 10.18a11.8 11.8 0 0 1-3.37 4.11 11.17 11.17 0 0 1-4.39 2.06 12.53 12.53 0 0 1-4.44.22 11.87 11.87 0 0 1-4.74-1.73L0 14.79a8.6 8.6 0 0 0 6.16-1.74 4.28 4.28 0 0 1-3.91-2.91h.95a6.18 6.18 0 0 0 .89-.12A4.2 4.2 0 0 1 .8 5.88a4 4 0 0 0 1.81.49 4.23 4.23 0 0 1-1.78-3A4.07 4.07 0 0 1 1.38.79 12.06 12.06 0 0 0 10 5.18z\" id=\"iOjKBC.tif\"></path></svg></a>,\n",
       " <a class=\"jsx-1531915454 icon\" href=\"https://www.linkedin.com/cws/share?url=https://www.datacamp.com/community/tutorials/merging-datasets-r\" rel=\"noopener noreferrer\" target=\"_blank\"><svg height=\"10\" viewbox=\"0 0 16.99 17\" xmlns=\"http://www.w3.org/2000/svg\"><path d=\"M3.85 17H.34V5.67h3.51zM2.07 4.18a2.09 2.09 0 1 1 2.08-2.09 2.08 2.08 0 0 1-2.08 2.09zM17 17h-3.5v-5.95c0-1.63-.62-2.54-1.91-2.54s-2.14.95-2.14 2.54V17H6.09V5.67h3.36v1.52a4 4 0 0 1 3.42-1.87c2.4 0 4.12 1.47 4.12 4.5V17z\"></path></svg></a>,\n",
       " <a class=\"jsx-1022557955 more\">+<!-- -->1</a>,\n",
       " <a class=\"jsx-379356511\" href=\"/community/tutorials/role-underscore-python\">Role of Underscore(_) in Python</a>,\n",
       " <a class=\"jsx-566588255\" href=\"/profile/hafeezulkareem\" target=\"_blank\"><div class=\"jsx-3208234818 Avatar\" style=\"background-image:url(https://res.cloudinary.com/dyd911kmh/image/fetch/t_avatar_thumbnail/https://assets.datacamp.com/users/avatars/002/251/699/square/93d3e31639a4d07613de9dccdc8bd5e8.png?1537853735);border-radius:20px;min-width:40px;min-height:40px\"></div><div class=\"jsx-566588255 info\"><div class=\"jsx-566588255 name\">Hafeezul Kareem Shaik</div><div class=\"jsx-566588255 date\"><span>October 26th, 2018</span></div></div></a>,\n",
       " <a class=\"jsx-1022557955 more\">+<!-- -->1</a>,\n",
       " <a class=\"jsx-1531915454 icon\" href=\"https://www.facebook.com/sharer.php?u=https://www.datacamp.com/community/tutorials/role-underscore-python\" rel=\"noopener noreferrer\" target=\"_blank\"><svg height=\"12\" viewbox=\"0 0 11.73 22.58\" xmlns=\"http://www.w3.org/2000/svg\"><path d=\"M7.61 22.58v-10.3h3.46l.52-4h-4V5.7c0-1.16.32-2 2-2h2.13V.16A28.47 28.47 0 0 0 8.63 0C5.56 0 3.47 1.87 3.47 5.31v3H0v4h3.47v10.3h4.14z\"></path></svg></a>,\n",
       " <a class=\"jsx-1531915454 icon centerIcon\" href=\"https://twitter.com/intent/tweet?url=https://www.datacamp.com/community/tutorials/role-underscore-python\" rel=\"noopener noreferrer\" target=\"_blank\"><svg height=\"10\" viewbox=\"0 0 20.42 16.67\" xmlns=\"http://www.w3.org/2000/svg\"><path d=\"M10 5.18c0-.28-.06-.53-.07-.78a4 4 0 0 1 .73-2.57A4.08 4.08 0 0 1 13.93 0 4 4 0 0 1 17 1.15a.43.43 0 0 0 .46.12 8.68 8.68 0 0 0 2.2-.84l.2-.1a4.36 4.36 0 0 1-1.75 2.28A9 9 0 0 0 20.42 2l-.21.3a3.83 3.83 0 0 1-.23.3A8.45 8.45 0 0 1 18.5 4a.28.28 0 0 0-.13.27A12 12 0 0 1 17 10.18a11.8 11.8 0 0 1-3.37 4.11 11.17 11.17 0 0 1-4.39 2.06 12.53 12.53 0 0 1-4.44.22 11.87 11.87 0 0 1-4.74-1.73L0 14.79a8.6 8.6 0 0 0 6.16-1.74 4.28 4.28 0 0 1-3.91-2.91h.95a6.18 6.18 0 0 0 .89-.12A4.2 4.2 0 0 1 .8 5.88a4 4 0 0 0 1.81.49 4.23 4.23 0 0 1-1.78-3A4.07 4.07 0 0 1 1.38.79 12.06 12.06 0 0 0 10 5.18z\" id=\"iOjKBC.tif\"></path></svg></a>,\n",
       " <a class=\"jsx-1531915454 icon\" href=\"https://www.linkedin.com/cws/share?url=https://www.datacamp.com/community/tutorials/role-underscore-python\" rel=\"noopener noreferrer\" target=\"_blank\"><svg height=\"10\" viewbox=\"0 0 16.99 17\" xmlns=\"http://www.w3.org/2000/svg\"><path d=\"M3.85 17H.34V5.67h3.51zM2.07 4.18a2.09 2.09 0 1 1 2.08-2.09 2.08 2.08 0 0 1-2.08 2.09zM17 17h-3.5v-5.95c0-1.63-.62-2.54-1.91-2.54s-2.14.95-2.14 2.54V17H6.09V5.67h3.36v1.52a4 4 0 0 1 3.42-1.87c2.4 0 4.12 1.47 4.12 4.5V17z\"></path></svg></a>,\n",
       " <a class=\"jsx-1022557955 more\">+<!-- -->1</a>,\n",
       " <a class=\"jsx-379356511\" href=\"/community/tutorials/machine-learning-models-api-python\">Turning Machine Learning Models into APIs in Python</a>,\n",
       " <a class=\"jsx-566588255\" href=\"/profile/spsayakpaul\" target=\"_blank\"><div class=\"jsx-3208234818 Avatar\" style=\"background-image:url(https://res.cloudinary.com/dyd911kmh/image/fetch/t_avatar_thumbnail/https://assets.datacamp.com/users/avatars/000/535/025/square/16992445_1296531833771983_8323505949942728934_o.jpg?1534160082);border-radius:20px;min-width:40px;min-height:40px\"></div><div class=\"jsx-566588255 info\"><div class=\"jsx-566588255 name\">Sayak  Paul</div><div class=\"jsx-566588255 date\"><span>October 25th, 2018</span></div></div></a>,\n",
       " <a class=\"jsx-1022557955 more\">+<!-- -->1</a>,\n",
       " <a class=\"jsx-1531915454 icon\" href=\"https://www.facebook.com/sharer.php?u=https://www.datacamp.com/community/tutorials/machine-learning-models-api-python\" rel=\"noopener noreferrer\" target=\"_blank\"><svg height=\"12\" viewbox=\"0 0 11.73 22.58\" xmlns=\"http://www.w3.org/2000/svg\"><path d=\"M7.61 22.58v-10.3h3.46l.52-4h-4V5.7c0-1.16.32-2 2-2h2.13V.16A28.47 28.47 0 0 0 8.63 0C5.56 0 3.47 1.87 3.47 5.31v3H0v4h3.47v10.3h4.14z\"></path></svg></a>,\n",
       " <a class=\"jsx-1531915454 icon centerIcon\" href=\"https://twitter.com/intent/tweet?url=https://www.datacamp.com/community/tutorials/machine-learning-models-api-python\" rel=\"noopener noreferrer\" target=\"_blank\"><svg height=\"10\" viewbox=\"0 0 20.42 16.67\" xmlns=\"http://www.w3.org/2000/svg\"><path d=\"M10 5.18c0-.28-.06-.53-.07-.78a4 4 0 0 1 .73-2.57A4.08 4.08 0 0 1 13.93 0 4 4 0 0 1 17 1.15a.43.43 0 0 0 .46.12 8.68 8.68 0 0 0 2.2-.84l.2-.1a4.36 4.36 0 0 1-1.75 2.28A9 9 0 0 0 20.42 2l-.21.3a3.83 3.83 0 0 1-.23.3A8.45 8.45 0 0 1 18.5 4a.28.28 0 0 0-.13.27A12 12 0 0 1 17 10.18a11.8 11.8 0 0 1-3.37 4.11 11.17 11.17 0 0 1-4.39 2.06 12.53 12.53 0 0 1-4.44.22 11.87 11.87 0 0 1-4.74-1.73L0 14.79a8.6 8.6 0 0 0 6.16-1.74 4.28 4.28 0 0 1-3.91-2.91h.95a6.18 6.18 0 0 0 .89-.12A4.2 4.2 0 0 1 .8 5.88a4 4 0 0 0 1.81.49 4.23 4.23 0 0 1-1.78-3A4.07 4.07 0 0 1 1.38.79 12.06 12.06 0 0 0 10 5.18z\" id=\"iOjKBC.tif\"></path></svg></a>,\n",
       " <a class=\"jsx-1531915454 icon\" href=\"https://www.linkedin.com/cws/share?url=https://www.datacamp.com/community/tutorials/machine-learning-models-api-python\" rel=\"noopener noreferrer\" target=\"_blank\"><svg height=\"10\" viewbox=\"0 0 16.99 17\" xmlns=\"http://www.w3.org/2000/svg\"><path d=\"M3.85 17H.34V5.67h3.51zM2.07 4.18a2.09 2.09 0 1 1 2.08-2.09 2.08 2.08 0 0 1-2.08 2.09zM17 17h-3.5v-5.95c0-1.63-.62-2.54-1.91-2.54s-2.14.95-2.14 2.54V17H6.09V5.67h3.36v1.52a4 4 0 0 1 3.42-1.87c2.4 0 4.12 1.47 4.12 4.5V17z\"></path></svg></a>,\n",
       " <a class=\"jsx-1022557955 more\">+<!-- -->2</a>,\n",
       " <a class=\"jsx-379356511\" href=\"/community/tutorials/geospatial-data-python\">Introduction to Geospatial Data in Python</a>,\n",
       " <a class=\"jsx-566588255\" href=\"/profile/dqvu\" target=\"_blank\"><div class=\"jsx-3208234818 Avatar\" style=\"background-image:url(https://res.cloudinary.com/dyd911kmh/image/fetch/t_avatar_thumbnail/https://assets.datacamp.com/users/avatars/002/440/549/square/Capture.PNG?1530083836);border-radius:20px;min-width:40px;min-height:40px\"></div><div class=\"jsx-566588255 info\"><div class=\"jsx-566588255 name\">Duong Vu</div><div class=\"jsx-566588255 date\"><span>October 24th, 2018</span></div></div></a>,\n",
       " <a class=\"jsx-1022557955 more\">+<!-- -->2</a>,\n",
       " <a class=\"jsx-1531915454 icon\" href=\"https://www.facebook.com/sharer.php?u=https://www.datacamp.com/community/tutorials/geospatial-data-python\" rel=\"noopener noreferrer\" target=\"_blank\"><svg height=\"12\" viewbox=\"0 0 11.73 22.58\" xmlns=\"http://www.w3.org/2000/svg\"><path d=\"M7.61 22.58v-10.3h3.46l.52-4h-4V5.7c0-1.16.32-2 2-2h2.13V.16A28.47 28.47 0 0 0 8.63 0C5.56 0 3.47 1.87 3.47 5.31v3H0v4h3.47v10.3h4.14z\"></path></svg></a>,\n",
       " <a class=\"jsx-1531915454 icon centerIcon\" href=\"https://twitter.com/intent/tweet?url=https://www.datacamp.com/community/tutorials/geospatial-data-python\" rel=\"noopener noreferrer\" target=\"_blank\"><svg height=\"10\" viewbox=\"0 0 20.42 16.67\" xmlns=\"http://www.w3.org/2000/svg\"><path d=\"M10 5.18c0-.28-.06-.53-.07-.78a4 4 0 0 1 .73-2.57A4.08 4.08 0 0 1 13.93 0 4 4 0 0 1 17 1.15a.43.43 0 0 0 .46.12 8.68 8.68 0 0 0 2.2-.84l.2-.1a4.36 4.36 0 0 1-1.75 2.28A9 9 0 0 0 20.42 2l-.21.3a3.83 3.83 0 0 1-.23.3A8.45 8.45 0 0 1 18.5 4a.28.28 0 0 0-.13.27A12 12 0 0 1 17 10.18a11.8 11.8 0 0 1-3.37 4.11 11.17 11.17 0 0 1-4.39 2.06 12.53 12.53 0 0 1-4.44.22 11.87 11.87 0 0 1-4.74-1.73L0 14.79a8.6 8.6 0 0 0 6.16-1.74 4.28 4.28 0 0 1-3.91-2.91h.95a6.18 6.18 0 0 0 .89-.12A4.2 4.2 0 0 1 .8 5.88a4 4 0 0 0 1.81.49 4.23 4.23 0 0 1-1.78-3A4.07 4.07 0 0 1 1.38.79 12.06 12.06 0 0 0 10 5.18z\" id=\"iOjKBC.tif\"></path></svg></a>,\n",
       " <a class=\"jsx-1531915454 icon\" href=\"https://www.linkedin.com/cws/share?url=https://www.datacamp.com/community/tutorials/geospatial-data-python\" rel=\"noopener noreferrer\" target=\"_blank\"><svg height=\"10\" viewbox=\"0 0 16.99 17\" xmlns=\"http://www.w3.org/2000/svg\"><path d=\"M3.85 17H.34V5.67h3.51zM2.07 4.18a2.09 2.09 0 1 1 2.08-2.09 2.08 2.08 0 0 1-2.08 2.09zM17 17h-3.5v-5.95c0-1.63-.62-2.54-1.91-2.54s-2.14.95-2.14 2.54V17H6.09V5.67h3.36v1.52a4 4 0 0 1 3.42-1.87c2.4 0 4.12 1.47 4.12 4.5V17z\"></path></svg></a>,\n",
       " <a class=\"jsx-1022557955 more\">+<!-- -->2</a>,\n",
       " <a class=\"jsx-379356511\" href=\"/community/tutorials/stemming-lemmatization-python\">Stemming and Lemmatization in Python</a>,\n",
       " <a class=\"jsx-566588255\" href=\"/profile/hafsajbn\" target=\"_blank\"><div class=\"jsx-3208234818 Avatar\" style=\"background-image:url(https://res.cloudinary.com/dyd911kmh/image/fetch/t_avatar_thumbnail/https://assets.datacamp.com/users/avatars/001/916/416/square/pattern.jpg?1535185029);border-radius:20px;min-width:40px;min-height:40px\"></div><div class=\"jsx-566588255 info\"><div class=\"jsx-566588255 name\">Hafsa Jabeen</div><div class=\"jsx-566588255 date\"><span>October 23rd, 2018</span></div></div></a>,\n",
       " <a class=\"jsx-1022557955 more\">+<!-- -->2</a>,\n",
       " <a class=\"jsx-1531915454 icon\" href=\"https://www.facebook.com/sharer.php?u=https://www.datacamp.com/community/tutorials/stemming-lemmatization-python\" rel=\"noopener noreferrer\" target=\"_blank\"><svg height=\"12\" viewbox=\"0 0 11.73 22.58\" xmlns=\"http://www.w3.org/2000/svg\"><path d=\"M7.61 22.58v-10.3h3.46l.52-4h-4V5.7c0-1.16.32-2 2-2h2.13V.16A28.47 28.47 0 0 0 8.63 0C5.56 0 3.47 1.87 3.47 5.31v3H0v4h3.47v10.3h4.14z\"></path></svg></a>,\n",
       " <a class=\"jsx-1531915454 icon centerIcon\" href=\"https://twitter.com/intent/tweet?url=https://www.datacamp.com/community/tutorials/stemming-lemmatization-python\" rel=\"noopener noreferrer\" target=\"_blank\"><svg height=\"10\" viewbox=\"0 0 20.42 16.67\" xmlns=\"http://www.w3.org/2000/svg\"><path d=\"M10 5.18c0-.28-.06-.53-.07-.78a4 4 0 0 1 .73-2.57A4.08 4.08 0 0 1 13.93 0 4 4 0 0 1 17 1.15a.43.43 0 0 0 .46.12 8.68 8.68 0 0 0 2.2-.84l.2-.1a4.36 4.36 0 0 1-1.75 2.28A9 9 0 0 0 20.42 2l-.21.3a3.83 3.83 0 0 1-.23.3A8.45 8.45 0 0 1 18.5 4a.28.28 0 0 0-.13.27A12 12 0 0 1 17 10.18a11.8 11.8 0 0 1-3.37 4.11 11.17 11.17 0 0 1-4.39 2.06 12.53 12.53 0 0 1-4.44.22 11.87 11.87 0 0 1-4.74-1.73L0 14.79a8.6 8.6 0 0 0 6.16-1.74 4.28 4.28 0 0 1-3.91-2.91h.95a6.18 6.18 0 0 0 .89-.12A4.2 4.2 0 0 1 .8 5.88a4 4 0 0 0 1.81.49 4.23 4.23 0 0 1-1.78-3A4.07 4.07 0 0 1 1.38.79 12.06 12.06 0 0 0 10 5.18z\" id=\"iOjKBC.tif\"></path></svg></a>,\n",
       " <a class=\"jsx-1531915454 icon\" href=\"https://www.linkedin.com/cws/share?url=https://www.datacamp.com/community/tutorials/stemming-lemmatization-python\" rel=\"noopener noreferrer\" target=\"_blank\"><svg height=\"10\" viewbox=\"0 0 16.99 17\" xmlns=\"http://www.w3.org/2000/svg\"><path d=\"M3.85 17H.34V5.67h3.51zM2.07 4.18a2.09 2.09 0 1 1 2.08-2.09 2.08 2.08 0 0 1-2.08 2.09zM17 17h-3.5v-5.95c0-1.63-.62-2.54-1.91-2.54s-2.14.95-2.14 2.54V17H6.09V5.67h3.36v1.52a4 4 0 0 1 3.42-1.87c2.4 0 4.12 1.47 4.12 4.5V17z\"></path></svg></a>,\n",
       " <a class=\"jsx-1022557955 more\">+<!-- -->2</a>,\n",
       " <a class=\"jsx-379356511\" href=\"/community/tutorials/probability-distributions-python\">Probability Distributions in Python</a>,\n",
       " <a class=\"jsx-566588255\" href=\"/profile/pathakmanish2605\" target=\"_blank\"><div class=\"jsx-3208234818 Avatar\" style=\"background-image:url(https://res.cloudinary.com/dyd911kmh/image/fetch/t_avatar_thumbnail/https://assets.datacamp.com/users/avatars/000/412/222/square/index.jpg?1516993022);border-radius:20px;min-width:40px;min-height:40px\"></div><div class=\"jsx-566588255 info\"><div class=\"jsx-566588255 name\">Manish Pathak</div><div class=\"jsx-566588255 date\"><span>October 19th, 2018</span></div></div></a>,\n",
       " <a class=\"jsx-1022557955 more\">+<!-- -->2</a>,\n",
       " <a class=\"jsx-1531915454 icon\" href=\"https://www.facebook.com/sharer.php?u=https://www.datacamp.com/community/tutorials/probability-distributions-python\" rel=\"noopener noreferrer\" target=\"_blank\"><svg height=\"12\" viewbox=\"0 0 11.73 22.58\" xmlns=\"http://www.w3.org/2000/svg\"><path d=\"M7.61 22.58v-10.3h3.46l.52-4h-4V5.7c0-1.16.32-2 2-2h2.13V.16A28.47 28.47 0 0 0 8.63 0C5.56 0 3.47 1.87 3.47 5.31v3H0v4h3.47v10.3h4.14z\"></path></svg></a>,\n",
       " <a class=\"jsx-1531915454 icon centerIcon\" href=\"https://twitter.com/intent/tweet?url=https://www.datacamp.com/community/tutorials/probability-distributions-python\" rel=\"noopener noreferrer\" target=\"_blank\"><svg height=\"10\" viewbox=\"0 0 20.42 16.67\" xmlns=\"http://www.w3.org/2000/svg\"><path d=\"M10 5.18c0-.28-.06-.53-.07-.78a4 4 0 0 1 .73-2.57A4.08 4.08 0 0 1 13.93 0 4 4 0 0 1 17 1.15a.43.43 0 0 0 .46.12 8.68 8.68 0 0 0 2.2-.84l.2-.1a4.36 4.36 0 0 1-1.75 2.28A9 9 0 0 0 20.42 2l-.21.3a3.83 3.83 0 0 1-.23.3A8.45 8.45 0 0 1 18.5 4a.28.28 0 0 0-.13.27A12 12 0 0 1 17 10.18a11.8 11.8 0 0 1-3.37 4.11 11.17 11.17 0 0 1-4.39 2.06 12.53 12.53 0 0 1-4.44.22 11.87 11.87 0 0 1-4.74-1.73L0 14.79a8.6 8.6 0 0 0 6.16-1.74 4.28 4.28 0 0 1-3.91-2.91h.95a6.18 6.18 0 0 0 .89-.12A4.2 4.2 0 0 1 .8 5.88a4 4 0 0 0 1.81.49 4.23 4.23 0 0 1-1.78-3A4.07 4.07 0 0 1 1.38.79 12.06 12.06 0 0 0 10 5.18z\" id=\"iOjKBC.tif\"></path></svg></a>,\n",
       " <a class=\"jsx-1531915454 icon\" href=\"https://www.linkedin.com/cws/share?url=https://www.datacamp.com/community/tutorials/probability-distributions-python\" rel=\"noopener noreferrer\" target=\"_blank\"><svg height=\"10\" viewbox=\"0 0 16.99 17\" xmlns=\"http://www.w3.org/2000/svg\"><path d=\"M3.85 17H.34V5.67h3.51zM2.07 4.18a2.09 2.09 0 1 1 2.08-2.09 2.08 2.08 0 0 1-2.08 2.09zM17 17h-3.5v-5.95c0-1.63-.62-2.54-1.91-2.54s-2.14.95-2.14 2.54V17H6.09V5.67h3.36v1.52a4 4 0 0 1 3.42-1.87c2.4 0 4.12 1.47 4.12 4.5V17z\"></path></svg></a>,\n",
       " <a class=\"jsx-1022557955 more\">+<!-- -->1</a>,\n",
       " <a class=\"jsx-379356511\" href=\"/community/tutorials/autocorrelation-r\">Autocorrelation in R</a>,\n",
       " <a class=\"jsx-566588255\" href=\"/profile/ryan-fc65f6e7-44c7-441e-9733-b27d3e167234\" target=\"_blank\"><div class=\"jsx-3208234818 Avatar\" style=\"background-image:url(https://res.cloudinary.com/dyd911kmh/image/fetch/t_avatar_thumbnail/https://assets.datacamp.com/users/avatars/002/578/873/square/Ryan_Sheehy.jpg?1530043776);border-radius:20px;min-width:40px;min-height:40px\"></div><div class=\"jsx-566588255 info\"><div class=\"jsx-566588255 name\">Ryan Sheehy</div><div class=\"jsx-566588255 date\"><span>October 18th, 2018</span></div></div></a>,\n",
       " <a class=\"jsx-1022557955 more\">+<!-- -->1</a>,\n",
       " <a class=\"jsx-1531915454 icon\" href=\"https://www.facebook.com/sharer.php?u=https://www.datacamp.com/community/tutorials/autocorrelation-r\" rel=\"noopener noreferrer\" target=\"_blank\"><svg height=\"12\" viewbox=\"0 0 11.73 22.58\" xmlns=\"http://www.w3.org/2000/svg\"><path d=\"M7.61 22.58v-10.3h3.46l.52-4h-4V5.7c0-1.16.32-2 2-2h2.13V.16A28.47 28.47 0 0 0 8.63 0C5.56 0 3.47 1.87 3.47 5.31v3H0v4h3.47v10.3h4.14z\"></path></svg></a>,\n",
       " <a class=\"jsx-1531915454 icon centerIcon\" href=\"https://twitter.com/intent/tweet?url=https://www.datacamp.com/community/tutorials/autocorrelation-r\" rel=\"noopener noreferrer\" target=\"_blank\"><svg height=\"10\" viewbox=\"0 0 20.42 16.67\" xmlns=\"http://www.w3.org/2000/svg\"><path d=\"M10 5.18c0-.28-.06-.53-.07-.78a4 4 0 0 1 .73-2.57A4.08 4.08 0 0 1 13.93 0 4 4 0 0 1 17 1.15a.43.43 0 0 0 .46.12 8.68 8.68 0 0 0 2.2-.84l.2-.1a4.36 4.36 0 0 1-1.75 2.28A9 9 0 0 0 20.42 2l-.21.3a3.83 3.83 0 0 1-.23.3A8.45 8.45 0 0 1 18.5 4a.28.28 0 0 0-.13.27A12 12 0 0 1 17 10.18a11.8 11.8 0 0 1-3.37 4.11 11.17 11.17 0 0 1-4.39 2.06 12.53 12.53 0 0 1-4.44.22 11.87 11.87 0 0 1-4.74-1.73L0 14.79a8.6 8.6 0 0 0 6.16-1.74 4.28 4.28 0 0 1-3.91-2.91h.95a6.18 6.18 0 0 0 .89-.12A4.2 4.2 0 0 1 .8 5.88a4 4 0 0 0 1.81.49 4.23 4.23 0 0 1-1.78-3A4.07 4.07 0 0 1 1.38.79 12.06 12.06 0 0 0 10 5.18z\" id=\"iOjKBC.tif\"></path></svg></a>,\n",
       " <a class=\"jsx-1531915454 icon\" href=\"https://www.linkedin.com/cws/share?url=https://www.datacamp.com/community/tutorials/autocorrelation-r\" rel=\"noopener noreferrer\" target=\"_blank\"><svg height=\"10\" viewbox=\"0 0 16.99 17\" xmlns=\"http://www.w3.org/2000/svg\"><path d=\"M3.85 17H.34V5.67h3.51zM2.07 4.18a2.09 2.09 0 1 1 2.08-2.09 2.08 2.08 0 0 1-2.08 2.09zM17 17h-3.5v-5.95c0-1.63-.62-2.54-1.91-2.54s-2.14.95-2.14 2.54V17H6.09V5.67h3.36v1.52a4 4 0 0 1 3.42-1.87c2.4 0 4.12 1.47 4.12 4.5V17z\"></path></svg></a>,\n",
       " <a class=\"jsx-379356511\" href=\"/community/tutorials/basic-programming-skills-r\">Basic Programming Skills in R</a>,\n",
       " <a class=\"jsx-566588255\" href=\"/profile/ryan-fc65f6e7-44c7-441e-9733-b27d3e167234\" target=\"_blank\"><div class=\"jsx-3208234818 Avatar\" style=\"background-image:url(https://res.cloudinary.com/dyd911kmh/image/fetch/t_avatar_thumbnail/https://assets.datacamp.com/users/avatars/002/578/873/square/Ryan_Sheehy.jpg?1530043776);border-radius:20px;min-width:40px;min-height:40px\"></div><div class=\"jsx-566588255 info\"><div class=\"jsx-566588255 name\">Ryan Sheehy</div><div class=\"jsx-566588255 date\"><span>October 18th, 2018</span></div></div></a>,\n",
       " <a class=\"jsx-1531915454 icon\" href=\"https://www.facebook.com/sharer.php?u=https://www.datacamp.com/community/tutorials/basic-programming-skills-r\" rel=\"noopener noreferrer\" target=\"_blank\"><svg height=\"12\" viewbox=\"0 0 11.73 22.58\" xmlns=\"http://www.w3.org/2000/svg\"><path d=\"M7.61 22.58v-10.3h3.46l.52-4h-4V5.7c0-1.16.32-2 2-2h2.13V.16A28.47 28.47 0 0 0 8.63 0C5.56 0 3.47 1.87 3.47 5.31v3H0v4h3.47v10.3h4.14z\"></path></svg></a>,\n",
       " <a class=\"jsx-1531915454 icon centerIcon\" href=\"https://twitter.com/intent/tweet?url=https://www.datacamp.com/community/tutorials/basic-programming-skills-r\" rel=\"noopener noreferrer\" target=\"_blank\"><svg height=\"10\" viewbox=\"0 0 20.42 16.67\" xmlns=\"http://www.w3.org/2000/svg\"><path d=\"M10 5.18c0-.28-.06-.53-.07-.78a4 4 0 0 1 .73-2.57A4.08 4.08 0 0 1 13.93 0 4 4 0 0 1 17 1.15a.43.43 0 0 0 .46.12 8.68 8.68 0 0 0 2.2-.84l.2-.1a4.36 4.36 0 0 1-1.75 2.28A9 9 0 0 0 20.42 2l-.21.3a3.83 3.83 0 0 1-.23.3A8.45 8.45 0 0 1 18.5 4a.28.28 0 0 0-.13.27A12 12 0 0 1 17 10.18a11.8 11.8 0 0 1-3.37 4.11 11.17 11.17 0 0 1-4.39 2.06 12.53 12.53 0 0 1-4.44.22 11.87 11.87 0 0 1-4.74-1.73L0 14.79a8.6 8.6 0 0 0 6.16-1.74 4.28 4.28 0 0 1-3.91-2.91h.95a6.18 6.18 0 0 0 .89-.12A4.2 4.2 0 0 1 .8 5.88a4 4 0 0 0 1.81.49 4.23 4.23 0 0 1-1.78-3A4.07 4.07 0 0 1 1.38.79 12.06 12.06 0 0 0 10 5.18z\" id=\"iOjKBC.tif\"></path></svg></a>,\n",
       " <a class=\"jsx-1531915454 icon\" href=\"https://www.linkedin.com/cws/share?url=https://www.datacamp.com/community/tutorials/basic-programming-skills-r\" rel=\"noopener noreferrer\" target=\"_blank\"><svg height=\"10\" viewbox=\"0 0 16.99 17\" xmlns=\"http://www.w3.org/2000/svg\"><path d=\"M3.85 17H.34V5.67h3.51zM2.07 4.18a2.09 2.09 0 1 1 2.08-2.09 2.08 2.08 0 0 1-2.08 2.09zM17 17h-3.5v-5.95c0-1.63-.62-2.54-1.91-2.54s-2.14.95-2.14 2.54V17H6.09V5.67h3.36v1.52a4 4 0 0 1 3.42-1.87c2.4 0 4.12 1.47 4.12 4.5V17z\"></path></svg></a>,\n",
       " <a class=\"jsx-1022557955 more\">+<!-- -->1</a>,\n",
       " <a class=\"jsx-379356511\" href=\"/community/tutorials/time-series-r\">Time Series Analysis using R</a>,\n",
       " <a class=\"jsx-566588255\" href=\"/profile/salinkc100\" target=\"_blank\"><div class=\"jsx-3208234818 Avatar\" style=\"background-image:url(https://res.cloudinary.com/dyd911kmh/image/fetch/t_avatar_thumbnail/https://cdn.datacamp.com/community/assets/placeholder_avatar-7f673b5d40e159404a56b5931250cc73.png);border-radius:20px;min-width:40px;min-height:40px\"></div><div class=\"jsx-566588255 info\"><div class=\"jsx-566588255 name\">Salin Kc</div><div class=\"jsx-566588255 date\"><span>October 18th, 2018</span></div></div></a>,\n",
       " <a class=\"jsx-1022557955 more\">+<!-- -->1</a>,\n",
       " <a class=\"jsx-1531915454 icon\" href=\"https://www.facebook.com/sharer.php?u=https://www.datacamp.com/community/tutorials/time-series-r\" rel=\"noopener noreferrer\" target=\"_blank\"><svg height=\"12\" viewbox=\"0 0 11.73 22.58\" xmlns=\"http://www.w3.org/2000/svg\"><path d=\"M7.61 22.58v-10.3h3.46l.52-4h-4V5.7c0-1.16.32-2 2-2h2.13V.16A28.47 28.47 0 0 0 8.63 0C5.56 0 3.47 1.87 3.47 5.31v3H0v4h3.47v10.3h4.14z\"></path></svg></a>,\n",
       " <a class=\"jsx-1531915454 icon centerIcon\" href=\"https://twitter.com/intent/tweet?url=https://www.datacamp.com/community/tutorials/time-series-r\" rel=\"noopener noreferrer\" target=\"_blank\"><svg height=\"10\" viewbox=\"0 0 20.42 16.67\" xmlns=\"http://www.w3.org/2000/svg\"><path d=\"M10 5.18c0-.28-.06-.53-.07-.78a4 4 0 0 1 .73-2.57A4.08 4.08 0 0 1 13.93 0 4 4 0 0 1 17 1.15a.43.43 0 0 0 .46.12 8.68 8.68 0 0 0 2.2-.84l.2-.1a4.36 4.36 0 0 1-1.75 2.28A9 9 0 0 0 20.42 2l-.21.3a3.83 3.83 0 0 1-.23.3A8.45 8.45 0 0 1 18.5 4a.28.28 0 0 0-.13.27A12 12 0 0 1 17 10.18a11.8 11.8 0 0 1-3.37 4.11 11.17 11.17 0 0 1-4.39 2.06 12.53 12.53 0 0 1-4.44.22 11.87 11.87 0 0 1-4.74-1.73L0 14.79a8.6 8.6 0 0 0 6.16-1.74 4.28 4.28 0 0 1-3.91-2.91h.95a6.18 6.18 0 0 0 .89-.12A4.2 4.2 0 0 1 .8 5.88a4 4 0 0 0 1.81.49 4.23 4.23 0 0 1-1.78-3A4.07 4.07 0 0 1 1.38.79 12.06 12.06 0 0 0 10 5.18z\" id=\"iOjKBC.tif\"></path></svg></a>,\n",
       " <a class=\"jsx-1531915454 icon\" href=\"https://www.linkedin.com/cws/share?url=https://www.datacamp.com/community/tutorials/time-series-r\" rel=\"noopener noreferrer\" target=\"_blank\"><svg height=\"10\" viewbox=\"0 0 16.99 17\" xmlns=\"http://www.w3.org/2000/svg\"><path d=\"M3.85 17H.34V5.67h3.51zM2.07 4.18a2.09 2.09 0 1 1 2.08-2.09 2.08 2.08 0 0 1-2.08 2.09zM17 17h-3.5v-5.95c0-1.63-.62-2.54-1.91-2.54s-2.14.95-2.14 2.54V17H6.09V5.67h3.36v1.52a4 4 0 0 1 3.42-1.87c2.4 0 4.12 1.47 4.12 4.5V17z\"></path></svg></a>,\n",
       " <a class=\"jsx-379356511\" href=\"/community/tutorials/gui-tkinter-python\">Introduction To GUI With Tkinter In Python</a>,\n",
       " <a class=\"jsx-566588255\" href=\"/profile/hafeezulkareem\" target=\"_blank\"><div class=\"jsx-3208234818 Avatar\" style=\"background-image:url(https://res.cloudinary.com/dyd911kmh/image/fetch/t_avatar_thumbnail/https://assets.datacamp.com/users/avatars/002/251/699/square/93d3e31639a4d07613de9dccdc8bd5e8.png?1537853735);border-radius:20px;min-width:40px;min-height:40px\"></div><div class=\"jsx-566588255 info\"><div class=\"jsx-566588255 name\">Hafeezul Kareem Shaik</div><div class=\"jsx-566588255 date\"><span>October 17th, 2018</span></div></div></a>,\n",
       " <a class=\"jsx-1531915454 icon\" href=\"https://www.facebook.com/sharer.php?u=https://www.datacamp.com/community/tutorials/gui-tkinter-python\" rel=\"noopener noreferrer\" target=\"_blank\"><svg height=\"12\" viewbox=\"0 0 11.73 22.58\" xmlns=\"http://www.w3.org/2000/svg\"><path d=\"M7.61 22.58v-10.3h3.46l.52-4h-4V5.7c0-1.16.32-2 2-2h2.13V.16A28.47 28.47 0 0 0 8.63 0C5.56 0 3.47 1.87 3.47 5.31v3H0v4h3.47v10.3h4.14z\"></path></svg></a>,\n",
       " <a class=\"jsx-1531915454 icon centerIcon\" href=\"https://twitter.com/intent/tweet?url=https://www.datacamp.com/community/tutorials/gui-tkinter-python\" rel=\"noopener noreferrer\" target=\"_blank\"><svg height=\"10\" viewbox=\"0 0 20.42 16.67\" xmlns=\"http://www.w3.org/2000/svg\"><path d=\"M10 5.18c0-.28-.06-.53-.07-.78a4 4 0 0 1 .73-2.57A4.08 4.08 0 0 1 13.93 0 4 4 0 0 1 17 1.15a.43.43 0 0 0 .46.12 8.68 8.68 0 0 0 2.2-.84l.2-.1a4.36 4.36 0 0 1-1.75 2.28A9 9 0 0 0 20.42 2l-.21.3a3.83 3.83 0 0 1-.23.3A8.45 8.45 0 0 1 18.5 4a.28.28 0 0 0-.13.27A12 12 0 0 1 17 10.18a11.8 11.8 0 0 1-3.37 4.11 11.17 11.17 0 0 1-4.39 2.06 12.53 12.53 0 0 1-4.44.22 11.87 11.87 0 0 1-4.74-1.73L0 14.79a8.6 8.6 0 0 0 6.16-1.74 4.28 4.28 0 0 1-3.91-2.91h.95a6.18 6.18 0 0 0 .89-.12A4.2 4.2 0 0 1 .8 5.88a4 4 0 0 0 1.81.49 4.23 4.23 0 0 1-1.78-3A4.07 4.07 0 0 1 1.38.79 12.06 12.06 0 0 0 10 5.18z\" id=\"iOjKBC.tif\"></path></svg></a>,\n",
       " <a class=\"jsx-1531915454 icon\" href=\"https://www.linkedin.com/cws/share?url=https://www.datacamp.com/community/tutorials/gui-tkinter-python\" rel=\"noopener noreferrer\" target=\"_blank\"><svg height=\"10\" viewbox=\"0 0 16.99 17\" xmlns=\"http://www.w3.org/2000/svg\"><path d=\"M3.85 17H.34V5.67h3.51zM2.07 4.18a2.09 2.09 0 1 1 2.08-2.09 2.08 2.08 0 0 1-2.08 2.09zM17 17h-3.5v-5.95c0-1.63-.62-2.54-1.91-2.54s-2.14.95-2.14 2.54V17H6.09V5.67h3.36v1.52a4 4 0 0 1 3.42-1.87c2.4 0 4.12 1.47 4.12 4.5V17z\"></path></svg></a>,\n",
       " <a class=\"jsx-379356511\" href=\"/community/tutorials/hacking-date-functions-sqlite\">Hacking Date Functions in SQLite</a>,\n",
       " <a class=\"jsx-566588255\" href=\"/profile/hillary-6c059505-2506-43b2-b803-fffe4408a5ff\" target=\"_blank\"><div class=\"jsx-3208234818 Avatar\" style=\"background-image:url(https://res.cloudinary.com/dyd911kmh/image/fetch/t_avatar_thumbnail/https://assets.datacamp.com/users/avatars/002/929/325/square/IMG_20180904_083108590_HDR.jpg?1536779019);border-radius:20px;min-width:40px;min-height:40px\"></div><div class=\"jsx-566588255 info\"><div class=\"jsx-566588255 name\">Hillary Green-Lerman</div><div class=\"jsx-566588255 date\"><span>October 16th, 2018</span></div></div></a>,\n",
       " <a class=\"jsx-1531915454 icon\" href=\"https://www.facebook.com/sharer.php?u=https://www.datacamp.com/community/tutorials/hacking-date-functions-sqlite\" rel=\"noopener noreferrer\" target=\"_blank\"><svg height=\"12\" viewbox=\"0 0 11.73 22.58\" xmlns=\"http://www.w3.org/2000/svg\"><path d=\"M7.61 22.58v-10.3h3.46l.52-4h-4V5.7c0-1.16.32-2 2-2h2.13V.16A28.47 28.47 0 0 0 8.63 0C5.56 0 3.47 1.87 3.47 5.31v3H0v4h3.47v10.3h4.14z\"></path></svg></a>,\n",
       " <a class=\"jsx-1531915454 icon centerIcon\" href=\"https://twitter.com/intent/tweet?url=https://www.datacamp.com/community/tutorials/hacking-date-functions-sqlite\" rel=\"noopener noreferrer\" target=\"_blank\"><svg height=\"10\" viewbox=\"0 0 20.42 16.67\" xmlns=\"http://www.w3.org/2000/svg\"><path d=\"M10 5.18c0-.28-.06-.53-.07-.78a4 4 0 0 1 .73-2.57A4.08 4.08 0 0 1 13.93 0 4 4 0 0 1 17 1.15a.43.43 0 0 0 .46.12 8.68 8.68 0 0 0 2.2-.84l.2-.1a4.36 4.36 0 0 1-1.75 2.28A9 9 0 0 0 20.42 2l-.21.3a3.83 3.83 0 0 1-.23.3A8.45 8.45 0 0 1 18.5 4a.28.28 0 0 0-.13.27A12 12 0 0 1 17 10.18a11.8 11.8 0 0 1-3.37 4.11 11.17 11.17 0 0 1-4.39 2.06 12.53 12.53 0 0 1-4.44.22 11.87 11.87 0 0 1-4.74-1.73L0 14.79a8.6 8.6 0 0 0 6.16-1.74 4.28 4.28 0 0 1-3.91-2.91h.95a6.18 6.18 0 0 0 .89-.12A4.2 4.2 0 0 1 .8 5.88a4 4 0 0 0 1.81.49 4.23 4.23 0 0 1-1.78-3A4.07 4.07 0 0 1 1.38.79 12.06 12.06 0 0 0 10 5.18z\" id=\"iOjKBC.tif\"></path></svg></a>,\n",
       " <a class=\"jsx-1531915454 icon\" href=\"https://www.linkedin.com/cws/share?url=https://www.datacamp.com/community/tutorials/hacking-date-functions-sqlite\" rel=\"noopener noreferrer\" target=\"_blank\"><svg height=\"10\" viewbox=\"0 0 16.99 17\" xmlns=\"http://www.w3.org/2000/svg\"><path d=\"M3.85 17H.34V5.67h3.51zM2.07 4.18a2.09 2.09 0 1 1 2.08-2.09 2.08 2.08 0 0 1-2.08 2.09zM17 17h-3.5v-5.95c0-1.63-.62-2.54-1.91-2.54s-2.14.95-2.14 2.54V17H6.09V5.67h3.36v1.52a4 4 0 0 1 3.42-1.87c2.4 0 4.12 1.47 4.12 4.5V17z\"></path></svg></a>,\n",
       " <a class=\"jsx-379356511\" href=\"/community/tutorials/decorators-python\">Decorators in Python</a>,\n",
       " <a class=\"jsx-566588255\" href=\"/profile/mwitiderrick\" target=\"_blank\"><div class=\"jsx-3208234818 Avatar\" style=\"background-image:url(https://res.cloudinary.com/dyd911kmh/image/fetch/t_avatar_thumbnail/https://graph.facebook.com/1773522159532926/picture?width=150&amp;height=150);border-radius:20px;min-width:40px;min-height:40px\"></div><div class=\"jsx-566588255 info\"><div class=\"jsx-566588255 name\">Derrick Mwiti</div><div class=\"jsx-566588255 date\"><span>October 16th, 2018</span></div></div></a>,\n",
       " <a class=\"jsx-1531915454 icon\" href=\"https://www.facebook.com/sharer.php?u=https://www.datacamp.com/community/tutorials/decorators-python\" rel=\"noopener noreferrer\" target=\"_blank\"><svg height=\"12\" viewbox=\"0 0 11.73 22.58\" xmlns=\"http://www.w3.org/2000/svg\"><path d=\"M7.61 22.58v-10.3h3.46l.52-4h-4V5.7c0-1.16.32-2 2-2h2.13V.16A28.47 28.47 0 0 0 8.63 0C5.56 0 3.47 1.87 3.47 5.31v3H0v4h3.47v10.3h4.14z\"></path></svg></a>,\n",
       " <a class=\"jsx-1531915454 icon centerIcon\" href=\"https://twitter.com/intent/tweet?url=https://www.datacamp.com/community/tutorials/decorators-python\" rel=\"noopener noreferrer\" target=\"_blank\"><svg height=\"10\" viewbox=\"0 0 20.42 16.67\" xmlns=\"http://www.w3.org/2000/svg\"><path d=\"M10 5.18c0-.28-.06-.53-.07-.78a4 4 0 0 1 .73-2.57A4.08 4.08 0 0 1 13.93 0 4 4 0 0 1 17 1.15a.43.43 0 0 0 .46.12 8.68 8.68 0 0 0 2.2-.84l.2-.1a4.36 4.36 0 0 1-1.75 2.28A9 9 0 0 0 20.42 2l-.21.3a3.83 3.83 0 0 1-.23.3A8.45 8.45 0 0 1 18.5 4a.28.28 0 0 0-.13.27A12 12 0 0 1 17 10.18a11.8 11.8 0 0 1-3.37 4.11 11.17 11.17 0 0 1-4.39 2.06 12.53 12.53 0 0 1-4.44.22 11.87 11.87 0 0 1-4.74-1.73L0 14.79a8.6 8.6 0 0 0 6.16-1.74 4.28 4.28 0 0 1-3.91-2.91h.95a6.18 6.18 0 0 0 .89-.12A4.2 4.2 0 0 1 .8 5.88a4 4 0 0 0 1.81.49 4.23 4.23 0 0 1-1.78-3A4.07 4.07 0 0 1 1.38.79 12.06 12.06 0 0 0 10 5.18z\" id=\"iOjKBC.tif\"></path></svg></a>,\n",
       " <a class=\"jsx-1531915454 icon\" href=\"https://www.linkedin.com/cws/share?url=https://www.datacamp.com/community/tutorials/decorators-python\" rel=\"noopener noreferrer\" target=\"_blank\"><svg height=\"10\" viewbox=\"0 0 16.99 17\" xmlns=\"http://www.w3.org/2000/svg\"><path d=\"M3.85 17H.34V5.67h3.51zM2.07 4.18a2.09 2.09 0 1 1 2.08-2.09 2.08 2.08 0 0 1-2.08 2.09zM17 17h-3.5v-5.95c0-1.63-.62-2.54-1.91-2.54s-2.14.95-2.14 2.54V17H6.09V5.67h3.36v1.52a4 4 0 0 1 3.42-1.87c2.4 0 4.12 1.47 4.12 4.5V17z\"></path></svg></a>,\n",
       " <a href=\"/community/tutorials\">1</a>,\n",
       " <a href=\"/community/tutorials?page=2\">2</a>,\n",
       " <a href=\"/community/tutorials?page=3\">3</a>,\n",
       " <a href=\"/community/tutorials?page=4\">4</a>,\n",
       " <a href=\"/community/tutorials?page=5\">5</a>,\n",
       " <a href=\"/community/tutorials?page=6\">6</a>,\n",
       " <a href=\"/community/tutorials?page=7\">7</a>,\n",
       " <a href=\"/community/tutorials?page=17\">17</a>,\n",
       " <a class=\"jsx-3269835606\" href=\"/community/rss.xml\"><svg height=\"13\" viewbox=\"0 0 18 18\" xmlns=\"http://www.w3.org/2000/svg\"><circle cx=\"3.08\" cy=\"14.92\" r=\"3.08\"></circle><path d=\"M16.46 18a1.54 1.54 0 0 1-1.54-1.54c0-8.25-5.13-13.38-13.38-13.38A1.59 1.59 0 0 1 .46 1.15 1.72 1.72 0 0 1 1.54 0a16.45 16.45 0 0 1 12 4.51c3 2.95 4.51 7.08 4.51 12A1.54 1.54 0 0 1 16.46 18z\"></path><path d=\"M10.63 18a1.54 1.54 0 0 1-1.54-1.54c0-5-2.54-7.54-7.54-7.54a1.54 1.54 0 0 1 0-3.08c6.75 0 10.63 3.87 10.63 10.62A1.54 1.54 0 0 1 10.63 18z\"></path></svg>Subscribe to RSS</a>,\n",
       " <a class=\"jsx-3269835606 icon\" href=\"https://www.facebook.com/pages/DataCamp/726282547396228\" rel=\"noopener noreferrer\" target=\"_blank\"><svg height=\"16\" viewbox=\"0 0 11.73 22.58\" xmlns=\"http://www.w3.org/2000/svg\"><path d=\"M7.61 22.58v-10.3h3.46l.52-4h-4V5.7c0-1.16.32-2 2-2h2.13V.16A28.47 28.47 0 0 0 8.63 0C5.56 0 3.47 1.87 3.47 5.31v3H0v4h3.47v10.3h4.14z\"></path></svg></a>,\n",
       " <a class=\"jsx-3269835606 icon\" href=\"https://twitter.com/datacamp\" rel=\"noopener noreferrer\" target=\"_blank\"><svg height=\"13\" viewbox=\"0 0 20.42 16.67\" xmlns=\"http://www.w3.org/2000/svg\"><path d=\"M10 5.18c0-.28-.06-.53-.07-.78a4 4 0 0 1 .73-2.57A4.08 4.08 0 0 1 13.93 0 4 4 0 0 1 17 1.15a.43.43 0 0 0 .46.12 8.68 8.68 0 0 0 2.2-.84l.2-.1a4.36 4.36 0 0 1-1.75 2.28A9 9 0 0 0 20.42 2l-.21.3a3.83 3.83 0 0 1-.23.3A8.45 8.45 0 0 1 18.5 4a.28.28 0 0 0-.13.27A12 12 0 0 1 17 10.18a11.8 11.8 0 0 1-3.37 4.11 11.17 11.17 0 0 1-4.39 2.06 12.53 12.53 0 0 1-4.44.22 11.87 11.87 0 0 1-4.74-1.73L0 14.79a8.6 8.6 0 0 0 6.16-1.74 4.28 4.28 0 0 1-3.91-2.91h.95a6.18 6.18 0 0 0 .89-.12A4.2 4.2 0 0 1 .8 5.88a4 4 0 0 0 1.81.49 4.23 4.23 0 0 1-1.78-3A4.07 4.07 0 0 1 1.38.79 12.06 12.06 0 0 0 10 5.18z\" id=\"iOjKBC.tif\"></path></svg></a>,\n",
       " <a class=\"jsx-3269835606 icon\" href=\"https://www.linkedin.com/company/datamind-org\" rel=\"noopener noreferrer\" target=\"_blank\"><svg height=\"12\" viewbox=\"0 0 16.99 17\" xmlns=\"http://www.w3.org/2000/svg\"><path d=\"M3.85 17H.34V5.67h3.51zM2.07 4.18a2.09 2.09 0 1 1 2.08-2.09 2.08 2.08 0 0 1-2.08 2.09zM17 17h-3.5v-5.95c0-1.63-.62-2.54-1.91-2.54s-2.14.95-2.14 2.54V17H6.09V5.67h3.36v1.52a4 4 0 0 1 3.42-1.87c2.4 0 4.12 1.47 4.12 4.5V17z\"></path></svg></a>,\n",
       " <a class=\"jsx-3269835606 icon\" href=\"https://www.youtube.com/channel/UC79Gv3mYp6zKiSwYemEik9A\" rel=\"noopener noreferrer\" target=\"_blank\"><svg height=\"12\" viewbox=\"0 0 25.19 17.73\" xmlns=\"http://www.w3.org/2000/svg\"><path d=\"M24.21 1.52C23.3.44 21.62 0 18.42 0H6.78C3.5 0 1.79.47.88 1.62S0 4.4 0 6.68V11c0 4.43 1 6.68 6.78 6.68h11.64c2.78 0 4.32-.39 5.32-1.34S25.2 13.76 25.2 11V6.68c-.01-2.41-.08-4.07-.99-5.16zm-8 7.94l-5.29 2.76a.81.81 0 0 1-1.19-.72V6a.81.81 0 0 1 1.19-.72L16.17 8a.81.81 0 0 1 0 1.44z\"></path></svg></a>,\n",
       " <a class=\"jsx-3269835606 menuItem\" href=\"/about\">About</a>,\n",
       " <a class=\"jsx-3269835606 menuItem\" href=\"/terms-of-use\">Terms</a>,\n",
       " <a class=\"jsx-3269835606 menuItem\" href=\"/privacy-policy\">Privacy</a>]"
      ]
     },
     "execution_count": 74,
     "metadata": {},
     "output_type": "execute_result"
    }
   ],
   "source": [
    "[i for i in soup.find_all('a')]"
   ]
  },
  {
   "cell_type": "code",
   "execution_count": 83,
   "metadata": {
    "collapsed": true
   },
   "outputs": [],
   "source": [
    "# Create variables to hold columns\n",
    "description = []\n",
    "upvote = []\n",
    "author = []\n",
    "publishdate = []\n",
    "title = []"
   ]
  },
  {
   "cell_type": "code",
   "execution_count": 84,
   "metadata": {},
   "outputs": [
    {
     "ename": "AttributeError",
     "evalue": "module 'numpy' has no attribute 'arrange'",
     "output_type": "error",
     "traceback": [
      "\u001b[0;31m---------------------------------------------------------------------------\u001b[0m",
      "\u001b[0;31mAttributeError\u001b[0m                            Traceback (most recent call last)",
      "\u001b[0;32m<ipython-input-84-958c0ced34f1>\u001b[0m in \u001b[0;36m<module>\u001b[0;34m()\u001b[0m\n\u001b[0;32m----> 1\u001b[0;31m \u001b[0;32mfor\u001b[0m \u001b[0mcp\u001b[0m \u001b[0;32min\u001b[0m \u001b[0mnp\u001b[0m\u001b[0;34m.\u001b[0m\u001b[0marrange\u001b[0m\u001b[0;34m(\u001b[0m\u001b[0;36m1\u001b[0m\u001b[0;34m,\u001b[0m\u001b[0mint\u001b[0m\u001b[0;34m(\u001b[0m\u001b[0mlastpage\u001b[0m\u001b[0;34m)\u001b[0m\u001b[0;34m+\u001b[0m\u001b[0;36m1\u001b[0m\u001b[0;34m)\u001b[0m\u001b[0;34m:\u001b[0m\u001b[0;34m\u001b[0m\u001b[0m\n\u001b[0m\u001b[1;32m      2\u001b[0m     \u001b[0murl\u001b[0m \u001b[0;34m=\u001b[0m \u001b[0;34m'https://www.datacamp.com/community/tutorials?page='\u001b[0m \u001b[0;34m+\u001b[0m \u001b[0mstr\u001b[0m\u001b[0;34m(\u001b[0m\u001b[0mcp\u001b[0m\u001b[0;34m)\u001b[0m\u001b[0;34m\u001b[0m\u001b[0m\n\u001b[1;32m      3\u001b[0m     \u001b[0mhtml\u001b[0m \u001b[0;34m=\u001b[0m \u001b[0murlopen\u001b[0m\u001b[0;34m(\u001b[0m\u001b[0murl\u001b[0m\u001b[0;34m)\u001b[0m\u001b[0;34m\u001b[0m\u001b[0m\n\u001b[1;32m      4\u001b[0m     \u001b[0msoup\u001b[0m \u001b[0;34m=\u001b[0m \u001b[0mBeautifulSoup\u001b[0m\u001b[0;34m(\u001b[0m\u001b[0mhtml\u001b[0m\u001b[0;34m,\u001b[0m \u001b[0;34m'html'\u001b[0m\u001b[0;34m)\u001b[0m\u001b[0;34m\u001b[0m\u001b[0m\n\u001b[1;32m      5\u001b[0m \u001b[0;34m\u001b[0m\u001b[0m\n",
      "\u001b[0;31mAttributeError\u001b[0m: module 'numpy' has no attribute 'arrange'"
     ]
    }
   ],
   "source": [
    "for cp in np.arrange(1,int(lastpage)+1):\n",
    "    url = 'https://www.datacamp.com/community/tutorials?page=' + str(cp)\n",
    "    html = urlopen(url)\n",
    "    soup = BeautifulSoup(html, 'html')\n",
    "    \n",
    "    description.append([i.text for i in soup.find_all(class_='jsx')])"
   ]
  },
  {
   "cell_type": "code",
   "execution_count": null,
   "metadata": {
    "collapsed": true
   },
   "outputs": [],
   "source": []
  }
 ],
 "metadata": {
  "kernelspec": {
   "display_name": "Python 3",
   "language": "python",
   "name": "python3"
  },
  "language_info": {
   "codemirror_mode": {
    "name": "ipython",
    "version": 3
   },
   "file_extension": ".py",
   "mimetype": "text/x-python",
   "name": "python",
   "nbconvert_exporter": "python",
   "pygments_lexer": "ipython3",
   "version": "3.6.4"
  }
 },
 "nbformat": 4,
 "nbformat_minor": 2
}
